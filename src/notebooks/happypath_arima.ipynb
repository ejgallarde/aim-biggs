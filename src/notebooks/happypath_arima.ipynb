{
 "cells": [
  {
   "cell_type": "markdown",
   "id": "4eeb82f1",
   "metadata": {},
   "source": [
    "## Project Utilities"
   ]
  },
  {
   "cell_type": "code",
   "execution_count": null,
   "id": "0a76bd7c",
   "metadata": {},
   "outputs": [
    {
     "name": "stderr",
     "output_type": "stream",
     "text": [
      "2025-04-24 14:00:39,999 INFO Directories ready: data/interim/, data/processed/, models/, figures/\n"
     ]
    }
   ],
   "source": [
    "# Parameters\n",
    "RAW_DIR       = \"data/raw/\"\n",
    "INTERIM_DIR   = \"data/interim/\"\n",
    "PROCESSED_DIR = \"data/processed/\"\n",
    "MODELS_DIR    = \"models/\"\n",
    "FIGURES_DIR   = \"figures/\"\n",
    "TRAIN_END     = \"2024-09-30\"\n",
    "SEED          = 42\n",
    "\n",
    "# 1. Imports & environment check\n",
    "import os, sys, logging\n",
    "from datetime import datetime\n",
    "import pandas as pd\n",
    "import numpy as np\n",
    "import matplotlib.pyplot as plt\n",
    "import seaborn as sns\n",
    "from statsmodels.tsa.holtwinters import ExponentialSmoothing\n",
    "from statsmodels.tsa.statespace.sarimax import SARIMAX\n",
    "import lightgbm as lgb\n",
    "from sklearn.metrics import (\n",
    "    mean_absolute_error,\n",
    "    mean_absolute_percentage_error,\n",
    "    mean_squared_error\n",
    ")\n",
    "\n",
    "from sklearn.model_selection import TimeSeriesSplit\n",
    "\n",
    "\n",
    "\n",
    "# Configure plotting & logging\n",
    "try:\n",
    "    plt.style.use(\"seaborn\")  # fallback to core seaborn style\n",
    "except Exception:\n",
    "    pass\n",
    "sns.set_context(\"talk\")\n",
    "logging.basicConfig(level=logging.INFO, format=\"%(asctime)s %(levelname)s %(message)s\")\n",
    "\n",
    "# 2. Directory setup\n",
    "for d in [INTERIM_DIR, PROCESSED_DIR, MODELS_DIR, FIGURES_DIR]:\n",
    "    os.makedirs(d, exist_ok=True)\n",
    "logging.info(f\"Directories ready: {INTERIM_DIR}, {PROCESSED_DIR}, {MODELS_DIR}, {FIGURES_DIR}\")\n",
    "\n",
    "# 3. Helper functions (also extract these into a file utils.py in your project root)\n",
    "def load_csv(path: str) -> pd.DataFrame:\n",
    "    df = pd.read_csv(path, parse_dates=True, infer_datetime_format=True)\n",
    "    logging.info(f\"Loaded {path} with {len(df):,} rows.\")\n",
    "    return df\n",
    "\n",
    "\n",
    "def save_df(df: pd.DataFrame, path: str):\n",
    "    df.to_csv(path, index=False)\n",
    "    logging.info(f\"Saved DataFrame to {path} with {df.shape[0]:,} rows.\")\n",
    "\n",
    "\n",
    "def detect_anomalies(df: pd.Series, method: str='iqr', k: float=1.5) -> pd.Series:\n",
    "    if method=='iqr':\n",
    "        q1, q3 = df.quantile([0.25,0.75])\n",
    "        iqr = q3 - q1\n",
    "        return (df < q1 - k*iqr) | (df > q3 + k*iqr)\n",
    "        # return (df > q3 + k*iqr)\n",
    "    elif method=='z':\n",
    "        return (df - df.mean()).abs()/df.std() > k\n",
    "    else:\n",
    "        raise ValueError(\"method must be 'iqr' or 'z'\")\n",
    "\n",
    "\n",
    "def evaluate_forecast(y_true: pd.Series, y_pred: pd.Series) -> dict:\n",
    "    \"\"\"Aligns true/predicted, drops NaNs, masks near-zero y_true, and computes MAE, MAPE, RMSE.\"\"\"\n",
    "    # 1. Align and drop any NaNs\n",
    "    y_pred = y_pred.reindex(y_true.index)\n",
    "    df_cmp = pd.concat([\n",
    "        y_true.rename('y_true'),\n",
    "        y_pred.rename('y_pred')\n",
    "    ], axis=1).dropna()\n",
    "    if df_cmp.empty:\n",
    "        return {'MAE': np.nan, 'MAPE': np.nan, 'RMSE': np.nan}\n",
    "\n",
    "    # 2. Mask out near-zero true values\n",
    "    mask = df_cmp['y_true'].abs() > MAPE_THRESHOLD\n",
    "    df_masked = df_cmp.loc[mask]\n",
    "    if df_masked.empty:\n",
    "        return {'MAE': np.nan, 'MAPE': np.nan, 'RMSE': np.nan}\n",
    "\n",
    "    yt = df_masked['y_true']\n",
    "    yp = df_masked['y_pred']\n",
    "\n",
    "    # 3. Compute metrics\n",
    "    return {\n",
    "        'MAE':  mean_absolute_error(yt, yp),\n",
    "        'MAPE': mean_absolute_percentage_error(yt, yp),\n",
    "        'RMSE': np.sqrt(mean_squared_error(yt, yp))\n",
    "    }\n",
    "\n",
    "def create_lag_features(df: pd.DataFrame, target: str, lags: list[int]):\n",
    "    for lag in lags:\n",
    "        df[f\"{target}_lag{lag}\"] = df[target].shift(lag)\n",
    "    return df"
   ]
  },
  {
   "cell_type": "markdown",
   "id": "fcd2e6bb",
   "metadata": {},
   "source": [
    "## Data ingestion and preprocessing"
   ]
  },
  {
   "cell_type": "code",
   "execution_count": null,
   "id": "dede1a2a",
   "metadata": {},
   "outputs": [
    {
     "name": "stderr",
     "output_type": "stream",
     "text": [
      "2025-04-24 14:00:40,021 INFO Directories ready: data/interim/, data/processed/, models/, figures/\n"
     ]
    }
   ],
   "source": [
    "from project_utils import save_df"
   ]
  },
  {
   "cell_type": "markdown",
   "id": "6ac15904",
   "metadata": {},
   "source": [
    "### Data Loading"
   ]
  },
  {
   "cell_type": "code",
   "execution_count": null,
   "id": "5ac7cb38",
   "metadata": {},
   "outputs": [],
   "source": [
    "# Parameters\n",
    "POS_PATH    = '../modeling_ivy/processed_data_20250416/transaction_master_biggs_cleaned.csv'\n",
    "\n",
    "# Load transaction-level data (cleaned)\n",
    "pos      = pd.read_csv(POS_PATH, parse_dates=['date'])\n",
    "pos = pos.rename(columns={'ite_desc_std': 'ite_desc_standardized'})"
   ]
  },
  {
   "cell_type": "markdown",
   "id": "8eb5dfb9",
   "metadata": {},
   "source": [
    "### Aggregate to daily"
   ]
  },
  {
   "cell_type": "code",
   "execution_count": null,
   "id": "c90e5404",
   "metadata": {},
   "outputs": [],
   "source": [
    "## Aggregate to daily branch×item\n",
    "\n",
    "pos_daily = (\n",
    "pos\n",
    ".groupby(['branch','ite_desc_standardized','date'], as_index=False)\n",
    "['quantity'].sum()\n",
    ")"
   ]
  },
  {
   "cell_type": "markdown",
   "id": "7aa697b3",
   "metadata": {},
   "source": [
    "### [CHECK] Remove after running the notebook end-to-end"
   ]
  },
  {
   "cell_type": "code",
   "execution_count": null,
   "id": "63b5e8fb",
   "metadata": {},
   "outputs": [],
   "source": [
    "## Filter to 2023–2024 and select top 10 items per branch\n",
    "\n",
    "df_23_24 = pos_daily[(pos_daily['date'].dt.year >= 2023) & (pos_daily['date'].dt.year <= 2024)]\n",
    "top_items = (\n",
    "df_23_24\n",
    ".groupby(['branch','ite_desc_standardized'])['quantity']\n",
    ".sum()\n",
    ".reset_index()\n",
    ".sort_values(['branch','quantity'], ascending=[True, False])\n",
    ".groupby('branch')\n",
    ".head(10)\n",
    ")\n",
    "pos_daily = pos_daily.merge(\n",
    "top_items[['branch','ite_desc_standardized']],\n",
    "on=['branch','ite_desc_standardized'],\n",
    "how='inner'\n",
    ")"
   ]
  },
  {
   "cell_type": "markdown",
   "id": "22643dc8",
   "metadata": {},
   "source": [
    "### Save daily sales"
   ]
  },
  {
   "cell_type": "code",
   "execution_count": null,
   "id": "883f8352",
   "metadata": {},
   "outputs": [
    {
     "name": "stderr",
     "output_type": "stream",
     "text": [
      "2025-04-24 14:01:28,058 INFO Saved DataFrame to data/interim/daily_branch_item.csv with 15,985 rows.\n"
     ]
    }
   ],
   "source": [
    "save_df(pos_daily, 'data/interim/daily_branch_item.csv')"
   ]
  },
  {
   "cell_type": "markdown",
   "id": "60f1c20f",
   "metadata": {},
   "source": [
    "## Anomaly Detection"
   ]
  },
  {
   "cell_type": "markdown",
   "id": "48b1bc9f",
   "metadata": {},
   "source": [
    "### Input: Daily Sales"
   ]
  },
  {
   "cell_type": "code",
   "execution_count": null,
   "id": "7d5f9af9",
   "metadata": {},
   "outputs": [],
   "source": [
    "# Parameters\n",
    "INPUT_CSV = 'data/interim/daily_branch_item.csv'\n",
    "\n",
    "# Load data\n",
    "df = pd.read_csv(INPUT_CSV, parse_dates=['date'])"
   ]
  },
  {
   "cell_type": "markdown",
   "id": "4fd97505",
   "metadata": {},
   "source": [
    "### [CHECK] Restrict data series for anomaly detection and treatment"
   ]
  },
  {
   "cell_type": "code",
   "execution_count": null,
   "id": "5af04622",
   "metadata": {},
   "outputs": [],
   "source": [
    "# Restrict to 2023–2024 for anomaly detection and treatment\n",
    "df = df[(df['date'].dt.year >= 2023) & (df['date'].dt.year <= 2024)]"
   ]
  },
  {
   "cell_type": "code",
   "execution_count": null,
   "id": "c3bf8b5e",
   "metadata": {},
   "outputs": [],
   "source": [
    "# Extract time-based features\n",
    "df['dayofweek'] = df['date'].dt.dayofweek\n",
    "df['month'] = df['date'].dt.month\n",
    "df['week'] = df['date'].dt.isocalendar().week"
   ]
  },
  {
   "cell_type": "markdown",
   "id": "bbafaa6b",
   "metadata": {},
   "source": [
    "### Identify anomalies"
   ]
  },
  {
   "cell_type": "code",
   "execution_count": null,
   "id": "8ecdc0f8",
   "metadata": {},
   "outputs": [],
   "source": [
    "# Flag anomalies\n",
    "df['anomaly'] = (\n",
    "    df\n",
    "    .groupby(['branch', 'ite_desc_standardized'])['quantity']\n",
    "    .transform(lambda x: detect_anomalies(x, method='iqr', k=1.5))\n",
    ")"
   ]
  },
  {
   "cell_type": "markdown",
   "id": "d38f7c37",
   "metadata": {},
   "source": [
    "### Compute seasonal median values"
   ]
  },
  {
   "cell_type": "code",
   "execution_count": null,
   "id": "86711c3c",
   "metadata": {},
   "outputs": [],
   "source": [
    "# Seasonal typical (median) values\n",
    "seasonal = (\n",
    "    df.groupby(['branch', 'ite_desc_standardized', 'month'])['quantity']\n",
    "      .median()\n",
    "      .rename('typical')\n",
    "      .reset_index()\n",
    ")\n"
   ]
  },
  {
   "cell_type": "markdown",
   "id": "0dce2d70",
   "metadata": {},
   "source": [
    "### Merge the seasonal typicals and come up with `quantity_cap`"
   ]
  },
  {
   "cell_type": "code",
   "execution_count": null,
   "id": "9f195765",
   "metadata": {},
   "outputs": [],
   "source": [
    "# Merge seasonal typicals back\n",
    "df = df.merge(seasonal, on=['branch', 'ite_desc_standardized', 'month'], how='left')\n",
    "\n",
    "# Replace outliers with seasonal typicals\n",
    "df['quantity_cap'] = np.where(df['anomaly'], df['typical'], df['quantity'])"
   ]
  },
  {
   "cell_type": "markdown",
   "id": "880447d0",
   "metadata": {},
   "source": [
    "### Save capped daily sales"
   ]
  },
  {
   "cell_type": "code",
   "execution_count": null,
   "id": "696e8a48",
   "metadata": {},
   "outputs": [],
   "source": [
    "# Save output\n",
    "df.to_csv('data/processed/flagged.csv', index=False)  # Full data with anomaly flags and capped values\n",
    "df[['branch', 'ite_desc_standardized', 'date', 'quantity_cap']].to_csv('data/processed/capped.csv', index=False)  # Cleaned dataset"
   ]
  },
  {
   "cell_type": "markdown",
   "id": "272a10af",
   "metadata": {},
   "source": [
    "### ARIMA Modeling"
   ]
  },
  {
   "cell_type": "code",
   "execution_count": 3,
   "id": "a456cad7",
   "metadata": {},
   "outputs": [
    {
     "name": "stderr",
     "output_type": "stream",
     "text": [
      "INFO:root:Forecast horizon: 30 days until 2024-04-30\n",
      "/Users/ivorymykagalang/Documents/MSDS_2023/Capstone/Use Cases/04_Biggs/03_Modeling/modeling_ivy/.venv/lib/python3.10/site-packages/statsmodels/tsa/base/tsa_model.py:473: ValueWarning: No frequency information was provided, so inferred frequency D will be used.\n",
      "  self._init_dates(dates, freq)\n",
      "/Users/ivorymykagalang/Documents/MSDS_2023/Capstone/Use Cases/04_Biggs/03_Modeling/modeling_ivy/.venv/lib/python3.10/site-packages/statsmodels/tsa/base/tsa_model.py:473: ValueWarning: No frequency information was provided, so inferred frequency D will be used.\n",
      "  self._init_dates(dates, freq)\n",
      "/Users/ivorymykagalang/Documents/MSDS_2023/Capstone/Use Cases/04_Biggs/03_Modeling/modeling_ivy/.venv/lib/python3.10/site-packages/statsmodels/tsa/base/tsa_model.py:473: ValueWarning: No frequency information was provided, so inferred frequency D will be used.\n",
      "  self._init_dates(dates, freq)\n",
      "/Users/ivorymykagalang/Documents/MSDS_2023/Capstone/Use Cases/04_Biggs/03_Modeling/modeling_ivy/.venv/lib/python3.10/site-packages/statsmodels/tsa/base/tsa_model.py:473: ValueWarning: No frequency information was provided, so inferred frequency D will be used.\n",
      "  self._init_dates(dates, freq)\n",
      "/Users/ivorymykagalang/Documents/MSDS_2023/Capstone/Use Cases/04_Biggs/03_Modeling/modeling_ivy/.venv/lib/python3.10/site-packages/statsmodels/tsa/base/tsa_model.py:473: ValueWarning: No frequency information was provided, so inferred frequency D will be used.\n",
      "  self._init_dates(dates, freq)\n",
      "/Users/ivorymykagalang/Documents/MSDS_2023/Capstone/Use Cases/04_Biggs/03_Modeling/modeling_ivy/.venv/lib/python3.10/site-packages/statsmodels/tsa/base/tsa_model.py:473: ValueWarning: No frequency information was provided, so inferred frequency D will be used.\n",
      "  self._init_dates(dates, freq)\n",
      "/Users/ivorymykagalang/Documents/MSDS_2023/Capstone/Use Cases/04_Biggs/03_Modeling/modeling_ivy/.venv/lib/python3.10/site-packages/statsmodels/tsa/base/tsa_model.py:473: ValueWarning: A date index has been provided, but it has no associated frequency information and so will be ignored when e.g. forecasting.\n",
      "  self._init_dates(dates, freq)\n",
      "/Users/ivorymykagalang/Documents/MSDS_2023/Capstone/Use Cases/04_Biggs/03_Modeling/modeling_ivy/.venv/lib/python3.10/site-packages/statsmodels/tsa/base/tsa_model.py:473: ValueWarning: A date index has been provided, but it has no associated frequency information and so will be ignored when e.g. forecasting.\n",
      "  self._init_dates(dates, freq)\n",
      "/Users/ivorymykagalang/Documents/MSDS_2023/Capstone/Use Cases/04_Biggs/03_Modeling/modeling_ivy/.venv/lib/python3.10/site-packages/statsmodels/tsa/base/tsa_model.py:473: ValueWarning: A date index has been provided, but it has no associated frequency information and so will be ignored when e.g. forecasting.\n",
      "  self._init_dates(dates, freq)\n",
      "/Users/ivorymykagalang/Documents/MSDS_2023/Capstone/Use Cases/04_Biggs/03_Modeling/modeling_ivy/.venv/lib/python3.10/site-packages/statsmodels/tsa/base/tsa_model.py:837: ValueWarning: No supported index is available. Prediction results will be given with an integer index beginning at `start`.\n",
      "  return get_prediction_index(\n",
      "/Users/ivorymykagalang/Documents/MSDS_2023/Capstone/Use Cases/04_Biggs/03_Modeling/modeling_ivy/.venv/lib/python3.10/site-packages/statsmodels/tsa/base/tsa_model.py:837: FutureWarning: No supported index is available. In the next version, calling this method in a model without a supported index will result in an exception.\n",
      "  return get_prediction_index(\n",
      "/Users/ivorymykagalang/Documents/MSDS_2023/Capstone/Use Cases/04_Biggs/03_Modeling/modeling_ivy/.venv/lib/python3.10/site-packages/statsmodels/tsa/base/tsa_model.py:473: ValueWarning: No frequency information was provided, so inferred frequency D will be used.\n",
      "  self._init_dates(dates, freq)\n",
      "/Users/ivorymykagalang/Documents/MSDS_2023/Capstone/Use Cases/04_Biggs/03_Modeling/modeling_ivy/.venv/lib/python3.10/site-packages/statsmodels/tsa/base/tsa_model.py:473: ValueWarning: No frequency information was provided, so inferred frequency D will be used.\n",
      "  self._init_dates(dates, freq)\n",
      "/Users/ivorymykagalang/Documents/MSDS_2023/Capstone/Use Cases/04_Biggs/03_Modeling/modeling_ivy/.venv/lib/python3.10/site-packages/statsmodels/tsa/base/tsa_model.py:473: ValueWarning: No frequency information was provided, so inferred frequency D will be used.\n",
      "  self._init_dates(dates, freq)\n",
      "/Users/ivorymykagalang/Documents/MSDS_2023/Capstone/Use Cases/04_Biggs/03_Modeling/modeling_ivy/.venv/lib/python3.10/site-packages/statsmodels/tsa/base/tsa_model.py:473: ValueWarning: A date index has been provided, but it has no associated frequency information and so will be ignored when e.g. forecasting.\n",
      "  self._init_dates(dates, freq)\n",
      "/Users/ivorymykagalang/Documents/MSDS_2023/Capstone/Use Cases/04_Biggs/03_Modeling/modeling_ivy/.venv/lib/python3.10/site-packages/statsmodels/tsa/base/tsa_model.py:473: ValueWarning: A date index has been provided, but it has no associated frequency information and so will be ignored when e.g. forecasting.\n",
      "  self._init_dates(dates, freq)\n",
      "/Users/ivorymykagalang/Documents/MSDS_2023/Capstone/Use Cases/04_Biggs/03_Modeling/modeling_ivy/.venv/lib/python3.10/site-packages/statsmodels/tsa/base/tsa_model.py:473: ValueWarning: A date index has been provided, but it has no associated frequency information and so will be ignored when e.g. forecasting.\n",
      "  self._init_dates(dates, freq)\n",
      "/Users/ivorymykagalang/Documents/MSDS_2023/Capstone/Use Cases/04_Biggs/03_Modeling/modeling_ivy/.venv/lib/python3.10/site-packages/statsmodels/tsa/base/tsa_model.py:837: ValueWarning: No supported index is available. Prediction results will be given with an integer index beginning at `start`.\n",
      "  return get_prediction_index(\n",
      "/Users/ivorymykagalang/Documents/MSDS_2023/Capstone/Use Cases/04_Biggs/03_Modeling/modeling_ivy/.venv/lib/python3.10/site-packages/statsmodels/tsa/base/tsa_model.py:837: FutureWarning: No supported index is available. In the next version, calling this method in a model without a supported index will result in an exception.\n",
      "  return get_prediction_index(\n",
      "/Users/ivorymykagalang/Documents/MSDS_2023/Capstone/Use Cases/04_Biggs/03_Modeling/modeling_ivy/.venv/lib/python3.10/site-packages/statsmodels/tsa/base/tsa_model.py:473: ValueWarning: No frequency information was provided, so inferred frequency D will be used.\n",
      "  self._init_dates(dates, freq)\n",
      "/Users/ivorymykagalang/Documents/MSDS_2023/Capstone/Use Cases/04_Biggs/03_Modeling/modeling_ivy/.venv/lib/python3.10/site-packages/statsmodels/tsa/base/tsa_model.py:473: ValueWarning: No frequency information was provided, so inferred frequency D will be used.\n",
      "  self._init_dates(dates, freq)\n",
      "/Users/ivorymykagalang/Documents/MSDS_2023/Capstone/Use Cases/04_Biggs/03_Modeling/modeling_ivy/.venv/lib/python3.10/site-packages/statsmodels/tsa/base/tsa_model.py:473: ValueWarning: No frequency information was provided, so inferred frequency D will be used.\n",
      "  self._init_dates(dates, freq)\n",
      "/Users/ivorymykagalang/Documents/MSDS_2023/Capstone/Use Cases/04_Biggs/03_Modeling/modeling_ivy/.venv/lib/python3.10/site-packages/statsmodels/tsa/base/tsa_model.py:473: ValueWarning: No frequency information was provided, so inferred frequency D will be used.\n",
      "  self._init_dates(dates, freq)\n",
      "/Users/ivorymykagalang/Documents/MSDS_2023/Capstone/Use Cases/04_Biggs/03_Modeling/modeling_ivy/.venv/lib/python3.10/site-packages/statsmodels/tsa/base/tsa_model.py:473: ValueWarning: No frequency information was provided, so inferred frequency D will be used.\n",
      "  self._init_dates(dates, freq)\n",
      "/Users/ivorymykagalang/Documents/MSDS_2023/Capstone/Use Cases/04_Biggs/03_Modeling/modeling_ivy/.venv/lib/python3.10/site-packages/statsmodels/tsa/base/tsa_model.py:473: ValueWarning: No frequency information was provided, so inferred frequency D will be used.\n",
      "  self._init_dates(dates, freq)\n",
      "/Users/ivorymykagalang/Documents/MSDS_2023/Capstone/Use Cases/04_Biggs/03_Modeling/modeling_ivy/.venv/lib/python3.10/site-packages/statsmodels/tsa/base/tsa_model.py:473: ValueWarning: No frequency information was provided, so inferred frequency D will be used.\n",
      "  self._init_dates(dates, freq)\n",
      "/Users/ivorymykagalang/Documents/MSDS_2023/Capstone/Use Cases/04_Biggs/03_Modeling/modeling_ivy/.venv/lib/python3.10/site-packages/statsmodels/tsa/base/tsa_model.py:473: ValueWarning: No frequency information was provided, so inferred frequency D will be used.\n",
      "  self._init_dates(dates, freq)\n",
      "/Users/ivorymykagalang/Documents/MSDS_2023/Capstone/Use Cases/04_Biggs/03_Modeling/modeling_ivy/.venv/lib/python3.10/site-packages/statsmodels/tsa/base/tsa_model.py:473: ValueWarning: No frequency information was provided, so inferred frequency D will be used.\n",
      "  self._init_dates(dates, freq)\n",
      "/Users/ivorymykagalang/Documents/MSDS_2023/Capstone/Use Cases/04_Biggs/03_Modeling/modeling_ivy/.venv/lib/python3.10/site-packages/statsmodels/tsa/base/tsa_model.py:473: ValueWarning: A date index has been provided, but it has no associated frequency information and so will be ignored when e.g. forecasting.\n",
      "  self._init_dates(dates, freq)\n",
      "/Users/ivorymykagalang/Documents/MSDS_2023/Capstone/Use Cases/04_Biggs/03_Modeling/modeling_ivy/.venv/lib/python3.10/site-packages/statsmodels/tsa/base/tsa_model.py:473: ValueWarning: A date index has been provided, but it has no associated frequency information and so will be ignored when e.g. forecasting.\n",
      "  self._init_dates(dates, freq)\n",
      "/Users/ivorymykagalang/Documents/MSDS_2023/Capstone/Use Cases/04_Biggs/03_Modeling/modeling_ivy/.venv/lib/python3.10/site-packages/statsmodels/tsa/base/tsa_model.py:473: ValueWarning: A date index has been provided, but it has no associated frequency information and so will be ignored when e.g. forecasting.\n",
      "  self._init_dates(dates, freq)\n",
      "/Users/ivorymykagalang/Documents/MSDS_2023/Capstone/Use Cases/04_Biggs/03_Modeling/modeling_ivy/.venv/lib/python3.10/site-packages/statsmodels/tsa/base/tsa_model.py:837: ValueWarning: No supported index is available. Prediction results will be given with an integer index beginning at `start`.\n",
      "  return get_prediction_index(\n",
      "/Users/ivorymykagalang/Documents/MSDS_2023/Capstone/Use Cases/04_Biggs/03_Modeling/modeling_ivy/.venv/lib/python3.10/site-packages/statsmodels/tsa/base/tsa_model.py:837: FutureWarning: No supported index is available. In the next version, calling this method in a model without a supported index will result in an exception.\n",
      "  return get_prediction_index(\n",
      "/Users/ivorymykagalang/Documents/MSDS_2023/Capstone/Use Cases/04_Biggs/03_Modeling/modeling_ivy/.venv/lib/python3.10/site-packages/statsmodels/tsa/base/tsa_model.py:473: ValueWarning: No frequency information was provided, so inferred frequency D will be used.\n",
      "  self._init_dates(dates, freq)\n",
      "/Users/ivorymykagalang/Documents/MSDS_2023/Capstone/Use Cases/04_Biggs/03_Modeling/modeling_ivy/.venv/lib/python3.10/site-packages/statsmodels/tsa/base/tsa_model.py:473: ValueWarning: No frequency information was provided, so inferred frequency D will be used.\n",
      "  self._init_dates(dates, freq)\n",
      "/Users/ivorymykagalang/Documents/MSDS_2023/Capstone/Use Cases/04_Biggs/03_Modeling/modeling_ivy/.venv/lib/python3.10/site-packages/statsmodels/tsa/base/tsa_model.py:473: ValueWarning: No frequency information was provided, so inferred frequency D will be used.\n",
      "  self._init_dates(dates, freq)\n",
      "/Users/ivorymykagalang/Documents/MSDS_2023/Capstone/Use Cases/04_Biggs/03_Modeling/modeling_ivy/.venv/lib/python3.10/site-packages/statsmodels/tsa/base/tsa_model.py:473: ValueWarning: A date index has been provided, but it has no associated frequency information and so will be ignored when e.g. forecasting.\n",
      "  self._init_dates(dates, freq)\n",
      "/Users/ivorymykagalang/Documents/MSDS_2023/Capstone/Use Cases/04_Biggs/03_Modeling/modeling_ivy/.venv/lib/python3.10/site-packages/statsmodels/tsa/base/tsa_model.py:473: ValueWarning: A date index has been provided, but it has no associated frequency information and so will be ignored when e.g. forecasting.\n",
      "  self._init_dates(dates, freq)\n",
      "/Users/ivorymykagalang/Documents/MSDS_2023/Capstone/Use Cases/04_Biggs/03_Modeling/modeling_ivy/.venv/lib/python3.10/site-packages/statsmodels/tsa/base/tsa_model.py:473: ValueWarning: A date index has been provided, but it has no associated frequency information and so will be ignored when e.g. forecasting.\n",
      "  self._init_dates(dates, freq)\n",
      "/Users/ivorymykagalang/Documents/MSDS_2023/Capstone/Use Cases/04_Biggs/03_Modeling/modeling_ivy/.venv/lib/python3.10/site-packages/statsmodels/tsa/base/tsa_model.py:837: ValueWarning: No supported index is available. Prediction results will be given with an integer index beginning at `start`.\n",
      "  return get_prediction_index(\n",
      "/Users/ivorymykagalang/Documents/MSDS_2023/Capstone/Use Cases/04_Biggs/03_Modeling/modeling_ivy/.venv/lib/python3.10/site-packages/statsmodels/tsa/base/tsa_model.py:837: FutureWarning: No supported index is available. In the next version, calling this method in a model without a supported index will result in an exception.\n",
      "  return get_prediction_index(\n",
      "/Users/ivorymykagalang/Documents/MSDS_2023/Capstone/Use Cases/04_Biggs/03_Modeling/modeling_ivy/.venv/lib/python3.10/site-packages/statsmodels/tsa/base/tsa_model.py:473: ValueWarning: A date index has been provided, but it has no associated frequency information and so will be ignored when e.g. forecasting.\n",
      "  self._init_dates(dates, freq)\n",
      "/Users/ivorymykagalang/Documents/MSDS_2023/Capstone/Use Cases/04_Biggs/03_Modeling/modeling_ivy/.venv/lib/python3.10/site-packages/statsmodels/tsa/base/tsa_model.py:473: ValueWarning: A date index has been provided, but it has no associated frequency information and so will be ignored when e.g. forecasting.\n",
      "  self._init_dates(dates, freq)\n",
      "/Users/ivorymykagalang/Documents/MSDS_2023/Capstone/Use Cases/04_Biggs/03_Modeling/modeling_ivy/.venv/lib/python3.10/site-packages/statsmodels/tsa/base/tsa_model.py:473: ValueWarning: A date index has been provided, but it has no associated frequency information and so will be ignored when e.g. forecasting.\n",
      "  self._init_dates(dates, freq)\n",
      "/Users/ivorymykagalang/Documents/MSDS_2023/Capstone/Use Cases/04_Biggs/03_Modeling/modeling_ivy/.venv/lib/python3.10/site-packages/statsmodels/tsa/base/tsa_model.py:837: ValueWarning: No supported index is available. Prediction results will be given with an integer index beginning at `start`.\n",
      "  return get_prediction_index(\n",
      "/Users/ivorymykagalang/Documents/MSDS_2023/Capstone/Use Cases/04_Biggs/03_Modeling/modeling_ivy/.venv/lib/python3.10/site-packages/statsmodels/tsa/base/tsa_model.py:837: FutureWarning: No supported index is available. In the next version, calling this method in a model without a supported index will result in an exception.\n",
      "  return get_prediction_index(\n",
      "/Users/ivorymykagalang/Documents/MSDS_2023/Capstone/Use Cases/04_Biggs/03_Modeling/modeling_ivy/.venv/lib/python3.10/site-packages/statsmodels/tsa/base/tsa_model.py:473: ValueWarning: A date index has been provided, but it has no associated frequency information and so will be ignored when e.g. forecasting.\n",
      "  self._init_dates(dates, freq)\n",
      "/Users/ivorymykagalang/Documents/MSDS_2023/Capstone/Use Cases/04_Biggs/03_Modeling/modeling_ivy/.venv/lib/python3.10/site-packages/statsmodels/tsa/base/tsa_model.py:473: ValueWarning: A date index has been provided, but it has no associated frequency information and so will be ignored when e.g. forecasting.\n",
      "  self._init_dates(dates, freq)\n",
      "/Users/ivorymykagalang/Documents/MSDS_2023/Capstone/Use Cases/04_Biggs/03_Modeling/modeling_ivy/.venv/lib/python3.10/site-packages/statsmodels/tsa/base/tsa_model.py:473: ValueWarning: A date index has been provided, but it has no associated frequency information and so will be ignored when e.g. forecasting.\n",
      "  self._init_dates(dates, freq)\n",
      "/Users/ivorymykagalang/Documents/MSDS_2023/Capstone/Use Cases/04_Biggs/03_Modeling/modeling_ivy/.venv/lib/python3.10/site-packages/statsmodels/tsa/base/tsa_model.py:837: ValueWarning: No supported index is available. Prediction results will be given with an integer index beginning at `start`.\n",
      "  return get_prediction_index(\n",
      "/Users/ivorymykagalang/Documents/MSDS_2023/Capstone/Use Cases/04_Biggs/03_Modeling/modeling_ivy/.venv/lib/python3.10/site-packages/statsmodels/tsa/base/tsa_model.py:837: FutureWarning: No supported index is available. In the next version, calling this method in a model without a supported index will result in an exception.\n",
      "  return get_prediction_index(\n",
      "/Users/ivorymykagalang/Documents/MSDS_2023/Capstone/Use Cases/04_Biggs/03_Modeling/modeling_ivy/.venv/lib/python3.10/site-packages/statsmodels/tsa/base/tsa_model.py:473: ValueWarning: A date index has been provided, but it has no associated frequency information and so will be ignored when e.g. forecasting.\n",
      "  self._init_dates(dates, freq)\n",
      "/Users/ivorymykagalang/Documents/MSDS_2023/Capstone/Use Cases/04_Biggs/03_Modeling/modeling_ivy/.venv/lib/python3.10/site-packages/statsmodels/tsa/base/tsa_model.py:473: ValueWarning: A date index has been provided, but it has no associated frequency information and so will be ignored when e.g. forecasting.\n",
      "  self._init_dates(dates, freq)\n",
      "/Users/ivorymykagalang/Documents/MSDS_2023/Capstone/Use Cases/04_Biggs/03_Modeling/modeling_ivy/.venv/lib/python3.10/site-packages/statsmodels/tsa/base/tsa_model.py:473: ValueWarning: A date index has been provided, but it has no associated frequency information and so will be ignored when e.g. forecasting.\n",
      "  self._init_dates(dates, freq)\n",
      "/Users/ivorymykagalang/Documents/MSDS_2023/Capstone/Use Cases/04_Biggs/03_Modeling/modeling_ivy/.venv/lib/python3.10/site-packages/statsmodels/tsa/base/tsa_model.py:837: ValueWarning: No supported index is available. Prediction results will be given with an integer index beginning at `start`.\n",
      "  return get_prediction_index(\n",
      "/Users/ivorymykagalang/Documents/MSDS_2023/Capstone/Use Cases/04_Biggs/03_Modeling/modeling_ivy/.venv/lib/python3.10/site-packages/statsmodels/tsa/base/tsa_model.py:837: FutureWarning: No supported index is available. In the next version, calling this method in a model without a supported index will result in an exception.\n",
      "  return get_prediction_index(\n",
      "/Users/ivorymykagalang/Documents/MSDS_2023/Capstone/Use Cases/04_Biggs/03_Modeling/modeling_ivy/.venv/lib/python3.10/site-packages/statsmodels/tsa/base/tsa_model.py:473: ValueWarning: A date index has been provided, but it has no associated frequency information and so will be ignored when e.g. forecasting.\n",
      "  self._init_dates(dates, freq)\n",
      "/Users/ivorymykagalang/Documents/MSDS_2023/Capstone/Use Cases/04_Biggs/03_Modeling/modeling_ivy/.venv/lib/python3.10/site-packages/statsmodels/tsa/base/tsa_model.py:473: ValueWarning: A date index has been provided, but it has no associated frequency information and so will be ignored when e.g. forecasting.\n",
      "  self._init_dates(dates, freq)\n",
      "/Users/ivorymykagalang/Documents/MSDS_2023/Capstone/Use Cases/04_Biggs/03_Modeling/modeling_ivy/.venv/lib/python3.10/site-packages/statsmodels/tsa/base/tsa_model.py:473: ValueWarning: A date index has been provided, but it has no associated frequency information and so will be ignored when e.g. forecasting.\n",
      "  self._init_dates(dates, freq)\n",
      "/Users/ivorymykagalang/Documents/MSDS_2023/Capstone/Use Cases/04_Biggs/03_Modeling/modeling_ivy/.venv/lib/python3.10/site-packages/statsmodels/tsa/base/tsa_model.py:837: ValueWarning: No supported index is available. Prediction results will be given with an integer index beginning at `start`.\n",
      "  return get_prediction_index(\n",
      "/Users/ivorymykagalang/Documents/MSDS_2023/Capstone/Use Cases/04_Biggs/03_Modeling/modeling_ivy/.venv/lib/python3.10/site-packages/statsmodels/tsa/base/tsa_model.py:837: FutureWarning: No supported index is available. In the next version, calling this method in a model without a supported index will result in an exception.\n",
      "  return get_prediction_index(\n",
      "/Users/ivorymykagalang/Documents/MSDS_2023/Capstone/Use Cases/04_Biggs/03_Modeling/modeling_ivy/.venv/lib/python3.10/site-packages/statsmodels/tsa/base/tsa_model.py:473: ValueWarning: No frequency information was provided, so inferred frequency D will be used.\n",
      "  self._init_dates(dates, freq)\n",
      "/Users/ivorymykagalang/Documents/MSDS_2023/Capstone/Use Cases/04_Biggs/03_Modeling/modeling_ivy/.venv/lib/python3.10/site-packages/statsmodels/tsa/base/tsa_model.py:473: ValueWarning: No frequency information was provided, so inferred frequency D will be used.\n",
      "  self._init_dates(dates, freq)\n",
      "/Users/ivorymykagalang/Documents/MSDS_2023/Capstone/Use Cases/04_Biggs/03_Modeling/modeling_ivy/.venv/lib/python3.10/site-packages/statsmodels/tsa/base/tsa_model.py:473: ValueWarning: No frequency information was provided, so inferred frequency D will be used.\n",
      "  self._init_dates(dates, freq)\n",
      "/Users/ivorymykagalang/Documents/MSDS_2023/Capstone/Use Cases/04_Biggs/03_Modeling/modeling_ivy/.venv/lib/python3.10/site-packages/statsmodels/tsa/base/tsa_model.py:473: ValueWarning: A date index has been provided, but it has no associated frequency information and so will be ignored when e.g. forecasting.\n",
      "  self._init_dates(dates, freq)\n",
      "/Users/ivorymykagalang/Documents/MSDS_2023/Capstone/Use Cases/04_Biggs/03_Modeling/modeling_ivy/.venv/lib/python3.10/site-packages/statsmodels/tsa/base/tsa_model.py:473: ValueWarning: A date index has been provided, but it has no associated frequency information and so will be ignored when e.g. forecasting.\n",
      "  self._init_dates(dates, freq)\n",
      "/Users/ivorymykagalang/Documents/MSDS_2023/Capstone/Use Cases/04_Biggs/03_Modeling/modeling_ivy/.venv/lib/python3.10/site-packages/statsmodels/tsa/base/tsa_model.py:473: ValueWarning: A date index has been provided, but it has no associated frequency information and so will be ignored when e.g. forecasting.\n",
      "  self._init_dates(dates, freq)\n",
      "/Users/ivorymykagalang/Documents/MSDS_2023/Capstone/Use Cases/04_Biggs/03_Modeling/modeling_ivy/.venv/lib/python3.10/site-packages/statsmodels/tsa/base/tsa_model.py:837: ValueWarning: No supported index is available. Prediction results will be given with an integer index beginning at `start`.\n",
      "  return get_prediction_index(\n",
      "/Users/ivorymykagalang/Documents/MSDS_2023/Capstone/Use Cases/04_Biggs/03_Modeling/modeling_ivy/.venv/lib/python3.10/site-packages/statsmodels/tsa/base/tsa_model.py:837: FutureWarning: No supported index is available. In the next version, calling this method in a model without a supported index will result in an exception.\n",
      "  return get_prediction_index(\n",
      "/Users/ivorymykagalang/Documents/MSDS_2023/Capstone/Use Cases/04_Biggs/03_Modeling/modeling_ivy/.venv/lib/python3.10/site-packages/statsmodels/tsa/base/tsa_model.py:473: ValueWarning: A date index has been provided, but it has no associated frequency information and so will be ignored when e.g. forecasting.\n",
      "  self._init_dates(dates, freq)\n",
      "/Users/ivorymykagalang/Documents/MSDS_2023/Capstone/Use Cases/04_Biggs/03_Modeling/modeling_ivy/.venv/lib/python3.10/site-packages/statsmodels/tsa/base/tsa_model.py:473: ValueWarning: A date index has been provided, but it has no associated frequency information and so will be ignored when e.g. forecasting.\n",
      "  self._init_dates(dates, freq)\n",
      "/Users/ivorymykagalang/Documents/MSDS_2023/Capstone/Use Cases/04_Biggs/03_Modeling/modeling_ivy/.venv/lib/python3.10/site-packages/statsmodels/tsa/base/tsa_model.py:473: ValueWarning: A date index has been provided, but it has no associated frequency information and so will be ignored when e.g. forecasting.\n",
      "  self._init_dates(dates, freq)\n",
      "/Users/ivorymykagalang/Documents/MSDS_2023/Capstone/Use Cases/04_Biggs/03_Modeling/modeling_ivy/.venv/lib/python3.10/site-packages/statsmodels/tsa/base/tsa_model.py:837: ValueWarning: No supported index is available. Prediction results will be given with an integer index beginning at `start`.\n",
      "  return get_prediction_index(\n",
      "/Users/ivorymykagalang/Documents/MSDS_2023/Capstone/Use Cases/04_Biggs/03_Modeling/modeling_ivy/.venv/lib/python3.10/site-packages/statsmodels/tsa/base/tsa_model.py:837: FutureWarning: No supported index is available. In the next version, calling this method in a model without a supported index will result in an exception.\n",
      "  return get_prediction_index(\n",
      "/Users/ivorymykagalang/Documents/MSDS_2023/Capstone/Use Cases/04_Biggs/03_Modeling/modeling_ivy/.venv/lib/python3.10/site-packages/statsmodels/tsa/base/tsa_model.py:473: ValueWarning: No frequency information was provided, so inferred frequency D will be used.\n",
      "  self._init_dates(dates, freq)\n",
      "/Users/ivorymykagalang/Documents/MSDS_2023/Capstone/Use Cases/04_Biggs/03_Modeling/modeling_ivy/.venv/lib/python3.10/site-packages/statsmodels/tsa/base/tsa_model.py:473: ValueWarning: No frequency information was provided, so inferred frequency D will be used.\n",
      "  self._init_dates(dates, freq)\n",
      "/Users/ivorymykagalang/Documents/MSDS_2023/Capstone/Use Cases/04_Biggs/03_Modeling/modeling_ivy/.venv/lib/python3.10/site-packages/statsmodels/tsa/base/tsa_model.py:473: ValueWarning: No frequency information was provided, so inferred frequency D will be used.\n",
      "  self._init_dates(dates, freq)\n"
     ]
    },
    {
     "name": "stdout",
     "output_type": "stream",
     "text": [
      "Saved all forecasts to results/arima_forecasts_all.csv\n",
      "\n",
      "Evaluation Summary (MAE, MAPE%):\n",
      "BRLN | BIGGS CAJUN CHICKEN 1PC: MAE=6.80, MAPE=38.14%\n",
      "BRLN | BIGGS CHICKEN 1PC: MAE=41.18, MAPE=51.57%\n",
      "BRLN | CHEESY BURGER: MAE=6.82, MAPE=50.40%\n",
      "BRLN | GOTO W EGG: MAE=6.44, MAPE=40.91%\n",
      "BRLN | ICED TEA: MAE=18.82, MAPE=44.34%\n",
      "BRLN | PINEAPPLE JUICE: MAE=20.45, MAPE=93.33%\n",
      "BRLN | SPAGHETTI: MAE=9.82, MAPE=48.80%\n",
      "OLA | GOTO W EGG: MAE=41.18, MAPE=27.28%\n",
      "OLA | PINEAPPLE JUICE: MAE=19.36, MAPE=22.59%\n"
     ]
    },
    {
     "name": "stderr",
     "output_type": "stream",
     "text": [
      "/Users/ivorymykagalang/Documents/MSDS_2023/Capstone/Use Cases/04_Biggs/03_Modeling/modeling_ivy/.venv/lib/python3.10/site-packages/statsmodels/tsa/base/tsa_model.py:473: ValueWarning: A date index has been provided, but it has no associated frequency information and so will be ignored when e.g. forecasting.\n",
      "  self._init_dates(dates, freq)\n",
      "/Users/ivorymykagalang/Documents/MSDS_2023/Capstone/Use Cases/04_Biggs/03_Modeling/modeling_ivy/.venv/lib/python3.10/site-packages/statsmodels/tsa/base/tsa_model.py:473: ValueWarning: A date index has been provided, but it has no associated frequency information and so will be ignored when e.g. forecasting.\n",
      "  self._init_dates(dates, freq)\n",
      "/Users/ivorymykagalang/Documents/MSDS_2023/Capstone/Use Cases/04_Biggs/03_Modeling/modeling_ivy/.venv/lib/python3.10/site-packages/statsmodels/tsa/base/tsa_model.py:473: ValueWarning: A date index has been provided, but it has no associated frequency information and so will be ignored when e.g. forecasting.\n",
      "  self._init_dates(dates, freq)\n",
      "/Users/ivorymykagalang/Documents/MSDS_2023/Capstone/Use Cases/04_Biggs/03_Modeling/modeling_ivy/.venv/lib/python3.10/site-packages/statsmodels/tsa/base/tsa_model.py:837: ValueWarning: No supported index is available. Prediction results will be given with an integer index beginning at `start`.\n",
      "  return get_prediction_index(\n",
      "/Users/ivorymykagalang/Documents/MSDS_2023/Capstone/Use Cases/04_Biggs/03_Modeling/modeling_ivy/.venv/lib/python3.10/site-packages/statsmodels/tsa/base/tsa_model.py:837: FutureWarning: No supported index is available. In the next version, calling this method in a model without a supported index will result in an exception.\n",
      "  return get_prediction_index(\n"
     ]
    }
   ],
   "source": [
    "# === Simplified Happy Path Forecasting Pipeline: ARIMA on All Series (One Month Ahead) ===\n",
    "\"\"\"\n",
    "This script runs an end-to-end ARIMA forecasting pipeline\n",
    "for every branch & item series in the capped.csv file,\n",
    "forecasting one calendar month ahead from TRAIN_END.\n",
    "\"\"\"\n",
    "import os\n",
    "import logging\n",
    "import pandas as pd\n",
    "from statsmodels.tsa.arima.model import ARIMA\n",
    "from sklearn.metrics import mean_absolute_error, mean_absolute_percentage_error\n",
    "\n",
    "# Configuration\n",
    "class Config:\n",
    "    ARIMA_ORDER = (1, 1, 1)            # <-- Customize (p, d, q)\n",
    "    TRAIN_END = '2024-03-31'           # last date of training data\n",
    "    DATA_PATH = os.path.join('data', 'processed', 'capped.csv')\n",
    "    OUTPUT_DIR = os.path.join('results')\n",
    "    DATE_COL = 'date'\n",
    "    BRANCH_COL = 'branch'\n",
    "    ITEM_COL = 'ite_desc_standardized'\n",
    "    QUANT_COL = 'quantity_cap'\n",
    "\n",
    "# Setup\n",
    "os.makedirs(Config.OUTPUT_DIR, exist_ok=True)\n",
    "logging.basicConfig(level=logging.INFO)\n",
    "\n",
    "# 1. Load data\n",
    "df = pd.read_csv(Config.DATA_PATH, parse_dates=[Config.DATE_COL])\n",
    "\n",
    "# 2. Determine forecast horizon (one month ahead)\n",
    "train_end_dt = pd.to_datetime(Config.TRAIN_END)\n",
    "next_month_end = train_end_dt + pd.offsets.MonthEnd(1)\n",
    "horizon = (next_month_end - train_end_dt).days\n",
    "logging.info(f\"Forecast horizon: {horizon} days until {next_month_end.date()}\")\n",
    "\n",
    "# Prepare storage\n",
    "all_results = []\n",
    "evaluations = []\n",
    "\n",
    "# 3. Loop over each branch-item combination\n",
    "series_keys = df[[Config.BRANCH_COL, Config.ITEM_COL]].drop_duplicates()\n",
    "for _, row in series_keys.iterrows():\n",
    "    branch = row[Config.BRANCH_COL]\n",
    "    item = row[Config.ITEM_COL]\n",
    "    subset = df[(df[Config.BRANCH_COL] == branch) &\n",
    "                (df[Config.ITEM_COL] == item)].copy()\n",
    "    if subset.empty:\n",
    "        continue\n",
    "\n",
    "    # Sort and index by date\n",
    "    subset = subset.sort_values(Config.DATE_COL).set_index(Config.DATE_COL)\n",
    "    train_series = subset.loc[:Config.TRAIN_END, Config.QUANT_COL]\n",
    "    test_series = subset.loc[Config.TRAIN_END:, Config.QUANT_COL].iloc[:horizon]\n",
    "\n",
    "    if train_series.empty:\n",
    "        logging.warning(f\"Skipping {branch} | {item}: no training data.\")\n",
    "        continue\n",
    "\n",
    "    # Fit ARIMA\n",
    "    try:\n",
    "        model = ARIMA(train_series, order=Config.ARIMA_ORDER)\n",
    "        fit = model.fit()\n",
    "    except Exception as e:\n",
    "        logging.warning(f\"ARIMA fit failed for {branch} | {item}: {e}\")\n",
    "        continue\n",
    "\n",
    "    # Forecast\n",
    "    dates_fc = pd.date_range(\n",
    "        start=train_end_dt + pd.Timedelta(days=1),\n",
    "        periods=horizon,\n",
    "        freq='D'\n",
    "    )\n",
    "    fc_values = fit.forecast(steps=horizon)\n",
    "    fc_series = pd.Series(fc_values, index=dates_fc, name='forecast')\n",
    "\n",
    "    # Compile results for this series\n",
    "    result_df = pd.DataFrame({\n",
    "        Config.BRANCH_COL: branch,\n",
    "        Config.ITEM_COL: item,\n",
    "        'forecast': fc_series\n",
    "    }, index=dates_fc)\n",
    "    all_results.append(result_df)\n",
    "\n",
    "    # Evaluate\n",
    "    eval_df = pd.DataFrame({\n",
    "        'test': test_series,\n",
    "        'forecast': fc_series\n",
    "    }).dropna()\n",
    "    if not eval_df.empty:\n",
    "        mae = mean_absolute_error(eval_df['test'], eval_df['forecast'])\n",
    "        mape = mean_absolute_percentage_error(eval_df['test'], eval_df['forecast']) * 100\n",
    "        evaluations.append((branch, item, mae, mape))\n",
    "\n",
    "# 4. Save all forecasts\n",
    "if all_results:\n",
    "    combined = pd.concat(all_results)\n",
    "    out_all = os.path.join(Config.OUTPUT_DIR, 'arima_forecasts_all.csv')\n",
    "    combined.to_csv(out_all)\n",
    "    print(f\"Saved all forecasts to {out_all}\")\n",
    "else:\n",
    "    print(\"No forecasts generated.\")\n",
    "\n",
    "# 5. Print evaluation summary\n",
    "if evaluations:\n",
    "    print(\"\\nEvaluation Summary (MAE, MAPE%):\")\n",
    "    for branch, item, mae, mape in evaluations:\n",
    "        print(f\"{branch} | {item}: MAE={mae:.2f}, MAPE={mape:.2f}%\")\n",
    "\n",
    "# End of script\n"
   ]
  },
  {
   "cell_type": "code",
   "execution_count": null,
   "id": "faf1da34",
   "metadata": {},
   "outputs": [],
   "source": []
  }
 ],
 "metadata": {
  "kernelspec": {
   "display_name": ".venv",
   "language": "python",
   "name": "python3"
  },
  "language_info": {
   "codemirror_mode": {
    "name": "ipython",
    "version": 3
   },
   "file_extension": ".py",
   "mimetype": "text/x-python",
   "name": "python",
   "nbconvert_exporter": "python",
   "pygments_lexer": "ipython3",
   "version": "3.10.5"
  }
 },
 "nbformat": 4,
 "nbformat_minor": 5
}
