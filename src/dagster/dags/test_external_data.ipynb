{
 "cells": [
  {
   "cell_type": "code",
   "execution_count": null,
   "id": "0bf726fb",
   "metadata": {},
   "outputs": [],
   "source": [
    "import sys\n",
    "import os\n",
    "\n",
    "# Add the actual path where 'data_sources' exists\n",
    "dagster_path = os.path.abspath(os.path.join(os.getcwd(), \"..\"))  # Goes from 'dags/' to 'dagster/'\n",
    "if dagster_path not in sys.path:\n",
    "    sys.path.insert(0, dagster_path)\n",
    "\n",
    "print(f\"✅ 'dagster' path added to sys.path: {dagster_path}\")"
   ]
  },
  {
   "cell_type": "code",
   "execution_count": null,
   "id": "d3e404c3",
   "metadata": {},
   "outputs": [],
   "source": [
    "# ✅ Cell 2: Import Dagster and the asset\n",
    "from dagster import build_op_context\n",
    "from data_sources.external_db_ingest import external_data\n",
    "from data_sources.csv_mapping_ingest import load_csv_data\n",
    "from data_preprocessing.transaction_clean_merge import run_full_preprocessing\n",
    "\n",
    "# Define DB config\n",
    "db_config = {\n",
    "    \"database\": \"admin_aim_masterfile\",\n",
    "    \"host\": \"162.241.4.11\",\n",
    "    \"password\": \"7x9r7f@2W\",  # Replace with actual password\n",
    "    \"port\": 3306,\n",
    "    \"queries\": [\n",
    "        \"\"\"\n",
    "        SELECT data_id, branch, pos, transdate, ite_code, quantity, dep_code, date, time, type, delivery\n",
    "        FROM admin_aim_masterfile.rd5000\n",
    "        WHERE date > '2022-01-01' AND branch in ('OLA', 'BRLN');\n",
    "        \"\"\",\n",
    "        \"\"\"\n",
    "        SELECT data_id, incode, ite_desc, dep_code, unit_prc, branch, pos\n",
    "        FROM admin_aim_masterfile.rd5500\n",
    "        WHERE branch in ('OLA', 'BRLN');\n",
    "        \"\"\",\n",
    "        \"\"\"\n",
    "        SELECT data_id, dept_code, dept_name, branch, pos\n",
    "        FROM admin_aim_masterfile.rd1800\n",
    "        WHERE branch in ('OLA', 'BRLN');\n",
    "        \"\"\"\n",
    "    ],\n",
    "    \"user\": \"admin_aim_sandbox\"\n",
    "}\n",
    "\n",
    "csv_config = {\n",
    "    \"department_filepath\": \"../../../csv/department_category_mapping.csv\",\n",
    "    \"item_filepath\": \"../../../csv/item_category_mapping.csv\"\n",
    "}"
   ]
  },
  {
   "cell_type": "code",
   "execution_count": null,
   "id": "79ed2a71",
   "metadata": {},
   "outputs": [],
   "source": [
    "# Simulate Dagster execution contexts\n",
    "db_context = build_op_context(config=db_config)\n",
    "csv_context = build_op_context(config=csv_config)\n",
    "\n",
    "# Run data loaders\n",
    "external_outputs = external_data(db_context)\n",
    "csv_outputs = load_csv_data(csv_context)"
   ]
  },
  {
   "cell_type": "code",
   "execution_count": null,
   "id": "3aafe218",
   "metadata": {},
   "outputs": [],
   "source": [
    "# Run full data cleaning and enrichment pipeline\n",
    "final_df = run_full_preprocessing(external_outputs, csv_outputs)\n",
    "\n",
    "print(\"✅ Final dataset shape:\", final_df.shape)\n",
    "final_df.head(10)  # Display top rows"
   ]
  },
  {
   "cell_type": "code",
   "execution_count": null,
   "id": "ecc1292f",
   "metadata": {},
   "outputs": [],
   "source": []
  }
 ],
 "metadata": {
  "kernelspec": {
   "display_name": "venv",
   "language": "python",
   "name": "python3"
  },
  "language_info": {
   "codemirror_mode": {
    "name": "ipython",
    "version": 3
   },
   "file_extension": ".py",
   "mimetype": "text/x-python",
   "name": "python",
   "nbconvert_exporter": "python",
   "pygments_lexer": "ipython3",
   "version": "3.11.9"
  }
 },
 "nbformat": 4,
 "nbformat_minor": 5
}
