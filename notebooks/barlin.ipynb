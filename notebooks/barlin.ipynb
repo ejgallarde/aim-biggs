{
 "cells": [
  {
   "cell_type": "markdown",
   "id": "bb2c87bb-6e32-4044-b678-8819fdfb85b8",
   "metadata": {},
   "source": [
    "**IMPORTS**"
   ]
  },
  {
   "cell_type": "code",
   "execution_count": 1,
   "id": "8a9c0f39-69da-41d2-a7c5-b668cb9f2603",
   "metadata": {
    "execution": {
     "iopub.execute_input": "2025-01-06T02:25:16.057818Z",
     "iopub.status.busy": "2025-01-06T02:25:16.057621Z",
     "iopub.status.idle": "2025-01-06T02:25:17.010494Z",
     "shell.execute_reply": "2025-01-06T02:25:17.009047Z",
     "shell.execute_reply.started": "2025-01-06T02:25:16.057797Z"
    }
   },
   "outputs": [],
   "source": [
    "import pandas as pd\n",
    "import matplotlib.pyplot as plt\n",
    "from datetime import timedelta"
   ]
  },
  {
   "cell_type": "markdown",
   "id": "6e9815cb-ff8a-4261-b292-04e0f14da7d0",
   "metadata": {},
   "source": [
    "**LOAD FILES**"
   ]
  },
  {
   "cell_type": "code",
   "execution_count": 2,
   "id": "8f0358c8-d5d7-4b10-aa9a-b43ca73b5b54",
   "metadata": {
    "execution": {
     "iopub.execute_input": "2025-01-06T02:25:17.011576Z",
     "iopub.status.busy": "2025-01-06T02:25:17.011283Z",
     "iopub.status.idle": "2025-01-06T02:25:17.801468Z",
     "shell.execute_reply": "2025-01-06T02:25:17.800514Z",
     "shell.execute_reply.started": "2025-01-06T02:25:17.011556Z"
    }
   },
   "outputs": [],
   "source": [
    "# Load the uploaded CSV files\n",
    "brln_items_file_path = 'BRLN_rd5500.csv'\n",
    "brln_sales_file_path = 'BRLN_rd5000.csv'\n",
    "\n",
    "# Read the files into DataFrames\n",
    "df_barlin_items = pd.read_csv(brln_items_file_path)\n",
    "df_barlin_sales = pd.read_csv(brln_sales_file_path)"
   ]
  },
  {
   "cell_type": "markdown",
   "id": "bbaf2a23-9a13-40bf-b8d0-48f88ff49a1d",
   "metadata": {},
   "source": [
    "**EDA FOR RD5500 (STORE ITEMS)**"
   ]
  },
  {
   "cell_type": "code",
   "execution_count": 3,
   "id": "1daaa27e-c4df-4b07-8453-7286c9e3b716",
   "metadata": {
    "execution": {
     "iopub.execute_input": "2025-01-06T02:25:17.803331Z",
     "iopub.status.busy": "2025-01-06T02:25:17.803106Z",
     "iopub.status.idle": "2025-01-06T02:25:17.810646Z",
     "shell.execute_reply": "2025-01-06T02:25:17.809841Z",
     "shell.execute_reply.started": "2025-01-06T02:25:17.803311Z"
    }
   },
   "outputs": [
    {
     "name": "stdout",
     "output_type": "stream",
     "text": [
      "Before data cleansing:\n",
      "INCODE      4374\n",
      "ITE_DESC    4374\n",
      "DEP_CODE    4374\n",
      "UNT_PRIC    4374\n",
      "UNIT           0\n",
      "dtype: int64\n"
     ]
    }
   ],
   "source": [
    "print(\"Before data cleansing:\")\n",
    "print(df_barlin_items.count())"
   ]
  },
  {
   "cell_type": "code",
   "execution_count": 4,
   "id": "9624147d-2b5d-4465-8daf-d6c62e580252",
   "metadata": {
    "execution": {
     "iopub.execute_input": "2025-01-06T02:25:17.811390Z",
     "iopub.status.busy": "2025-01-06T02:25:17.811198Z",
     "iopub.status.idle": "2025-01-06T02:25:17.827952Z",
     "shell.execute_reply": "2025-01-06T02:25:17.827224Z",
     "shell.execute_reply.started": "2025-01-06T02:25:17.811371Z"
    }
   },
   "outputs": [
    {
     "data": {
      "text/html": [
       "<div>\n",
       "<style scoped>\n",
       "    .dataframe tbody tr th:only-of-type {\n",
       "        vertical-align: middle;\n",
       "    }\n",
       "\n",
       "    .dataframe tbody tr th {\n",
       "        vertical-align: top;\n",
       "    }\n",
       "\n",
       "    .dataframe thead th {\n",
       "        text-align: right;\n",
       "    }\n",
       "</style>\n",
       "<table border=\"1\" class=\"dataframe\">\n",
       "  <thead>\n",
       "    <tr style=\"text-align: right;\">\n",
       "      <th></th>\n",
       "      <th>INCODE</th>\n",
       "      <th>ITE_DESC</th>\n",
       "      <th>DEP_CODE</th>\n",
       "      <th>UNT_PRIC</th>\n",
       "      <th>UNIT</th>\n",
       "    </tr>\n",
       "  </thead>\n",
       "  <tbody>\n",
       "    <tr>\n",
       "      <th>0</th>\n",
       "      <td>PP9</td>\n",
       "      <td>PAN BIGGS SPAGHETTI</td>\n",
       "      <td>26</td>\n",
       "      <td>1199.00</td>\n",
       "      <td>NaN</td>\n",
       "    </tr>\n",
       "    <tr>\n",
       "      <th>1</th>\n",
       "      <td>CHM13</td>\n",
       "      <td>CHICKEN IN A BOX (6)</td>\n",
       "      <td>1</td>\n",
       "      <td>669.00</td>\n",
       "      <td>NaN</td>\n",
       "    </tr>\n",
       "    <tr>\n",
       "      <th>2</th>\n",
       "      <td>SLD7</td>\n",
       "      <td>NENA'S HARVEST</td>\n",
       "      <td>9</td>\n",
       "      <td>169.00</td>\n",
       "      <td>NaN</td>\n",
       "    </tr>\n",
       "    <tr>\n",
       "      <th>3</th>\n",
       "      <td>SAL3</td>\n",
       "      <td>ROASTED SESAME DRESSING</td>\n",
       "      <td>46</td>\n",
       "      <td>0.00</td>\n",
       "      <td>NaN</td>\n",
       "    </tr>\n",
       "    <tr>\n",
       "      <th>4</th>\n",
       "      <td>BL1</td>\n",
       "      <td>PINEAPPLE JUICE</td>\n",
       "      <td>42</td>\n",
       "      <td>0.01</td>\n",
       "      <td>NaN</td>\n",
       "    </tr>\n",
       "  </tbody>\n",
       "</table>\n",
       "</div>"
      ],
      "text/plain": [
       "  INCODE                 ITE_DESC  DEP_CODE  UNT_PRIC  UNIT\n",
       "0    PP9      PAN BIGGS SPAGHETTI        26   1199.00   NaN\n",
       "1  CHM13     CHICKEN IN A BOX (6)         1    669.00   NaN\n",
       "2   SLD7           NENA'S HARVEST         9    169.00   NaN\n",
       "3   SAL3  ROASTED SESAME DRESSING        46      0.00   NaN\n",
       "4    BL1          PINEAPPLE JUICE        42      0.01   NaN"
      ]
     },
     "execution_count": 4,
     "metadata": {},
     "output_type": "execute_result"
    }
   ],
   "source": [
    "df_barlin_items.head()"
   ]
  },
  {
   "cell_type": "code",
   "execution_count": 5,
   "id": "73d5db61-ed23-4369-8038-60193ac21b92",
   "metadata": {
    "execution": {
     "iopub.execute_input": "2025-01-06T02:25:17.828832Z",
     "iopub.status.busy": "2025-01-06T02:25:17.828639Z",
     "iopub.status.idle": "2025-01-06T02:25:17.834277Z",
     "shell.execute_reply": "2025-01-06T02:25:17.833459Z",
     "shell.execute_reply.started": "2025-01-06T02:25:17.828813Z"
    }
   },
   "outputs": [
    {
     "name": "stdout",
     "output_type": "stream",
     "text": [
      "INCODE       object\n",
      "ITE_DESC     object\n",
      "DEP_CODE      int64\n",
      "UNT_PRIC    float64\n",
      "UNIT        float64\n",
      "dtype: object\n"
     ]
    }
   ],
   "source": [
    "print(df_barlin_items.dtypes)"
   ]
  },
  {
   "cell_type": "markdown",
   "id": "9868c838-a5d5-4de2-b0b2-192bf8be759f",
   "metadata": {},
   "source": [
    "**CLEAN RD5500 DATA**"
   ]
  },
  {
   "cell_type": "code",
   "execution_count": 6,
   "id": "ee102523-07bb-4168-9349-f885b44943ef",
   "metadata": {
    "execution": {
     "iopub.execute_input": "2025-01-06T02:25:17.835010Z",
     "iopub.status.busy": "2025-01-06T02:25:17.834825Z",
     "iopub.status.idle": "2025-01-06T02:25:17.841571Z",
     "shell.execute_reply": "2025-01-06T02:25:17.840763Z",
     "shell.execute_reply.started": "2025-01-06T02:25:17.834991Z"
    }
   },
   "outputs": [],
   "source": [
    "# Drop all columns except 'INCODE' and 'ITE_DESC'\n",
    "df_barlin_items = df_barlin_items[['INCODE', 'ITE_DESC']]\n",
    "\n",
    "# Get all unique pairs of 'INCODE' and 'ITE_DESC'\n",
    "df_barlin_filtered_items = df_barlin_items.drop_duplicates()"
   ]
  },
  {
   "cell_type": "code",
   "execution_count": 7,
   "id": "f99baae0-8794-4b48-b69f-40ce36d4c0fc",
   "metadata": {
    "execution": {
     "iopub.execute_input": "2025-01-06T02:25:17.842524Z",
     "iopub.status.busy": "2025-01-06T02:25:17.842301Z",
     "iopub.status.idle": "2025-01-06T02:25:17.848586Z",
     "shell.execute_reply": "2025-01-06T02:25:17.847439Z",
     "shell.execute_reply.started": "2025-01-06T02:25:17.842502Z"
    }
   },
   "outputs": [
    {
     "name": "stdout",
     "output_type": "stream",
     "text": [
      "After data cleansing:\n",
      "INCODE      1099\n",
      "ITE_DESC    1099\n",
      "dtype: int64\n"
     ]
    }
   ],
   "source": [
    "print(\"After data cleansing:\")\n",
    "print(df_barlin_filtered_items.count())"
   ]
  },
  {
   "cell_type": "code",
   "execution_count": 8,
   "id": "b1812170-c4ef-4681-8c2e-75faaa96cde1",
   "metadata": {
    "execution": {
     "iopub.execute_input": "2025-01-06T02:25:17.849666Z",
     "iopub.status.busy": "2025-01-06T02:25:17.849426Z",
     "iopub.status.idle": "2025-01-06T02:25:23.093510Z",
     "shell.execute_reply": "2025-01-06T02:25:23.091228Z",
     "shell.execute_reply.started": "2025-01-06T02:25:17.849642Z"
    }
   },
   "outputs": [
    {
     "name": "stdout",
     "output_type": "stream",
     "text": [
      "Defaulting to user installation because normal site-packages is not writeable\n",
      "Requirement already satisfied: xlwt in /home/msds-pt2025a/egallarde/.local/lib/python3.11/site-packages (1.3.0)\n",
      "Note: you may need to restart the kernel to use updated packages.\n"
     ]
    }
   ],
   "source": [
    "pip install xlwt"
   ]
  },
  {
   "cell_type": "code",
   "execution_count": 9,
   "id": "ed893b7e-f38f-4d52-9e80-acc894d3d33d",
   "metadata": {
    "execution": {
     "iopub.execute_input": "2025-01-06T02:25:23.097801Z",
     "iopub.status.busy": "2025-01-06T02:25:23.096873Z",
     "iopub.status.idle": "2025-01-06T02:25:23.138557Z",
     "shell.execute_reply": "2025-01-06T02:25:23.136996Z",
     "shell.execute_reply.started": "2025-01-06T02:25:23.097698Z"
    }
   },
   "outputs": [],
   "source": [
    "output_file = 'store_items.csv'\n",
    "df_barlin_filtered_items.to_csv(output_file, index=False)"
   ]
  },
  {
   "cell_type": "markdown",
   "id": "38a1e31a-8d83-476f-b97c-0b79e47a0783",
   "metadata": {},
   "source": [
    "**MERGE SIMILAR STORE ITEMS BASED ON ITEM DESCRIPTION**"
   ]
  },
  {
   "cell_type": "code",
   "execution_count": 10,
   "id": "2694d733-bdfd-419e-86fe-44f9693dae54",
   "metadata": {
    "execution": {
     "iopub.execute_input": "2025-01-06T02:25:23.144595Z",
     "iopub.status.busy": "2025-01-06T02:25:23.143991Z",
     "iopub.status.idle": "2025-01-06T02:25:23.186318Z",
     "shell.execute_reply": "2025-01-06T02:25:23.185586Z",
     "shell.execute_reply.started": "2025-01-06T02:25:23.144539Z"
    }
   },
   "outputs": [
    {
     "name": "stderr",
     "output_type": "stream",
     "text": [
      "/tmp/ipykernel_4700/255978601.py:2: SettingWithCopyWarning: \n",
      "A value is trying to be set on a copy of a slice from a DataFrame.\n",
      "Try using .loc[row_indexer,col_indexer] = value instead\n",
      "\n",
      "See the caveats in the documentation: https://pandas.pydata.org/pandas-docs/stable/user_guide/indexing.html#returning-a-view-versus-a-copy\n",
      "  df_barlin_filtered_items.loc[:, 'Normalized_ITE_DESC'] = df_barlin_filtered_items['ITE_DESC'].str.strip().str.lower()\n"
     ]
    },
    {
     "data": {
      "text/html": [
       "<div>\n",
       "<style scoped>\n",
       "    .dataframe tbody tr th:only-of-type {\n",
       "        vertical-align: middle;\n",
       "    }\n",
       "\n",
       "    .dataframe tbody tr th {\n",
       "        vertical-align: top;\n",
       "    }\n",
       "\n",
       "    .dataframe thead th {\n",
       "        text-align: right;\n",
       "    }\n",
       "</style>\n",
       "<table border=\"1\" class=\"dataframe\">\n",
       "  <thead>\n",
       "    <tr style=\"text-align: right;\">\n",
       "      <th></th>\n",
       "      <th>INCODE_LIST</th>\n",
       "      <th>ITEM_DESC</th>\n",
       "    </tr>\n",
       "  </thead>\n",
       "  <tbody>\n",
       "    <tr>\n",
       "      <th>0</th>\n",
       "      <td>[BULK123]</td>\n",
       "      <td>1 2 TIPS</td>\n",
       "    </tr>\n",
       "    <tr>\n",
       "      <th>1</th>\n",
       "      <td>[BO41]</td>\n",
       "      <td>1 CRISPY</td>\n",
       "    </tr>\n",
       "    <tr>\n",
       "      <th>2</th>\n",
       "      <td>[BULK130]</td>\n",
       "      <td>1 CRISPY MISCUT</td>\n",
       "    </tr>\n",
       "    <tr>\n",
       "      <th>3</th>\n",
       "      <td>[TEST10]</td>\n",
       "      <td>1 PC CHICKEN CAJUN W TROPICAL SLAW</td>\n",
       "    </tr>\n",
       "    <tr>\n",
       "      <th>4</th>\n",
       "      <td>[BO43]</td>\n",
       "      <td>1BBQ SINANTOLAN RICE</td>\n",
       "    </tr>\n",
       "    <tr>\n",
       "      <th>5</th>\n",
       "      <td>[BL86]</td>\n",
       "      <td>1CAJCHX SPG PBRD CNC IT</td>\n",
       "    </tr>\n",
       "    <tr>\n",
       "      <th>6</th>\n",
       "      <td>[BULK114]</td>\n",
       "      <td>1CAJUN MINIBBQ TSMAC</td>\n",
       "    </tr>\n",
       "    <tr>\n",
       "      <th>7</th>\n",
       "      <td>[BO71]</td>\n",
       "      <td>1CHX CB SPG SOFTD WATER</td>\n",
       "    </tr>\n",
       "    <tr>\n",
       "      <th>8</th>\n",
       "      <td>[BULK116]</td>\n",
       "      <td>1CHX SPAG SODA WATER</td>\n",
       "    </tr>\n",
       "    <tr>\n",
       "      <th>9</th>\n",
       "      <td>[CHM6, DEL8, REPCHM6, XTR2, BDS6, REPXTR2, DEL...</td>\n",
       "      <td>1PC BIGG CAJUN CHICKEN</td>\n",
       "    </tr>\n",
       "    <tr>\n",
       "      <th>10</th>\n",
       "      <td>[CHM4, XTR1, DEL3, REPCHM4, REPXTR3, BDS11, BO...</td>\n",
       "      <td>1PC BIGG CHICKEN</td>\n",
       "    </tr>\n",
       "    <tr>\n",
       "      <th>11</th>\n",
       "      <td>[DEL181]</td>\n",
       "      <td>1PC BIGGSCHX PJ</td>\n",
       "    </tr>\n",
       "    <tr>\n",
       "      <th>12</th>\n",
       "      <td>[SID5, XTR15, REPSID7, REPXTR1, BDS77]</td>\n",
       "      <td>1PC BMP</td>\n",
       "    </tr>\n",
       "    <tr>\n",
       "      <th>13</th>\n",
       "      <td>[PARTY8, BULK129, BULK122, EVENT7]</td>\n",
       "      <td>1PC CHICKEN</td>\n",
       "    </tr>\n",
       "    <tr>\n",
       "      <th>14</th>\n",
       "      <td>[BULK118]</td>\n",
       "      <td>1PC CHICKEN CAJUN</td>\n",
       "    </tr>\n",
       "    <tr>\n",
       "      <th>15</th>\n",
       "      <td>[CHM20]</td>\n",
       "      <td>1PC CHICKEN CORDON</td>\n",
       "    </tr>\n",
       "    <tr>\n",
       "      <th>16</th>\n",
       "      <td>[BLK14]</td>\n",
       "      <td>1PC CHICKEN RICE LUMPIA WATER</td>\n",
       "    </tr>\n",
       "    <tr>\n",
       "      <th>17</th>\n",
       "      <td>[BL51]</td>\n",
       "      <td>1PC CRISPY P40</td>\n",
       "    </tr>\n",
       "    <tr>\n",
       "      <th>18</th>\n",
       "      <td>[BO72]</td>\n",
       "      <td>1PC CRISPY SALAD JUICE</td>\n",
       "    </tr>\n",
       "    <tr>\n",
       "      <th>19</th>\n",
       "      <td>[REPXTR47, XTR41, BLK67]</td>\n",
       "      <td>1PC PORKCHOP</td>\n",
       "    </tr>\n",
       "  </tbody>\n",
       "</table>\n",
       "</div>"
      ],
      "text/plain": [
       "                                          INCODE_LIST  \\\n",
       "0                                           [BULK123]   \n",
       "1                                              [BO41]   \n",
       "2                                           [BULK130]   \n",
       "3                                            [TEST10]   \n",
       "4                                              [BO43]   \n",
       "5                                              [BL86]   \n",
       "6                                           [BULK114]   \n",
       "7                                              [BO71]   \n",
       "8                                           [BULK116]   \n",
       "9   [CHM6, DEL8, REPCHM6, XTR2, BDS6, REPXTR2, DEL...   \n",
       "10  [CHM4, XTR1, DEL3, REPCHM4, REPXTR3, BDS11, BO...   \n",
       "11                                           [DEL181]   \n",
       "12             [SID5, XTR15, REPSID7, REPXTR1, BDS77]   \n",
       "13                 [PARTY8, BULK129, BULK122, EVENT7]   \n",
       "14                                          [BULK118]   \n",
       "15                                            [CHM20]   \n",
       "16                                            [BLK14]   \n",
       "17                                             [BL51]   \n",
       "18                                             [BO72]   \n",
       "19                           [REPXTR47, XTR41, BLK67]   \n",
       "\n",
       "                             ITEM_DESC  \n",
       "0                             1 2 TIPS  \n",
       "1                             1 CRISPY  \n",
       "2                      1 CRISPY MISCUT  \n",
       "3   1 PC CHICKEN CAJUN W TROPICAL SLAW  \n",
       "4                 1BBQ SINANTOLAN RICE  \n",
       "5              1CAJCHX SPG PBRD CNC IT  \n",
       "6                 1CAJUN MINIBBQ TSMAC  \n",
       "7              1CHX CB SPG SOFTD WATER  \n",
       "8                 1CHX SPAG SODA WATER  \n",
       "9               1PC BIGG CAJUN CHICKEN  \n",
       "10                    1PC BIGG CHICKEN  \n",
       "11                     1PC BIGGSCHX PJ  \n",
       "12                             1PC BMP  \n",
       "13                         1PC CHICKEN  \n",
       "14                   1PC CHICKEN CAJUN  \n",
       "15                  1PC CHICKEN CORDON  \n",
       "16       1PC CHICKEN RICE LUMPIA WATER  \n",
       "17                      1PC CRISPY P40  \n",
       "18              1PC CRISPY SALAD JUICE  \n",
       "19                        1PC PORKCHOP  "
      ]
     },
     "execution_count": 10,
     "metadata": {},
     "output_type": "execute_result"
    }
   ],
   "source": [
    "# Normalize the ITE_DESC column to make it case-insensitive and group similar items\n",
    "df_barlin_filtered_items.loc[:, 'Normalized_ITE_DESC'] = df_barlin_filtered_items['ITE_DESC'].str.strip().str.lower()\n",
    "\n",
    "# Group by the normalized item description and aggregate INCODE into a list\n",
    "grouped_df = df_barlin_filtered_items.groupby('Normalized_ITE_DESC').agg({\n",
    "    'INCODE': list,\n",
    "    'ITE_DESC': 'first'  # Take the first occurrence of the original case item description\n",
    "}).reset_index()\n",
    "\n",
    "# Rename columns for clarity\n",
    "grouped_df = grouped_df.rename(columns={'INCODE': 'INCODE_LIST', 'ITE_DESC': 'ITEM_DESC'})\n",
    "\n",
    "# Drop the normalized column as it is no longer needed\n",
    "grouped_df = grouped_df[['INCODE_LIST', 'ITEM_DESC']]\n",
    "grouped_df.head(20)"
   ]
  },
  {
   "cell_type": "code",
   "execution_count": 11,
   "id": "6663ec86-b91d-4e99-8a30-d2e77661a5f5",
   "metadata": {
    "execution": {
     "iopub.execute_input": "2025-01-06T02:25:23.187001Z",
     "iopub.status.busy": "2025-01-06T02:25:23.186833Z",
     "iopub.status.idle": "2025-01-06T02:25:23.193413Z",
     "shell.execute_reply": "2025-01-06T02:25:23.192551Z",
     "shell.execute_reply.started": "2025-01-06T02:25:23.186985Z"
    }
   },
   "outputs": [
    {
     "name": "stdout",
     "output_type": "stream",
     "text": [
      "After incode merge:\n",
      "INCODE_LIST    473\n",
      "ITEM_DESC      473\n",
      "dtype: int64\n"
     ]
    }
   ],
   "source": [
    "print(\"After incode merge:\")\n",
    "print(grouped_df.count())"
   ]
  },
  {
   "cell_type": "code",
   "execution_count": 12,
   "id": "d33fc5ed-edf0-4c83-b730-0fa2a52bc0a4",
   "metadata": {
    "execution": {
     "iopub.execute_input": "2025-01-06T02:25:23.194396Z",
     "iopub.status.busy": "2025-01-06T02:25:23.194201Z",
     "iopub.status.idle": "2025-01-06T02:25:23.200456Z",
     "shell.execute_reply": "2025-01-06T02:25:23.199627Z",
     "shell.execute_reply.started": "2025-01-06T02:25:23.194378Z"
    }
   },
   "outputs": [],
   "source": [
    "output_file = 'barlin_grouped_items.csv'\n",
    "grouped_df.to_csv(output_file, index=False)"
   ]
  },
  {
   "cell_type": "markdown",
   "id": "c2415321-5fe6-40f7-8d70-4c6de2f9f727",
   "metadata": {
    "execution": {
     "iopub.execute_input": "2025-01-06T02:14:11.477783Z",
     "iopub.status.busy": "2025-01-06T02:14:11.477106Z",
     "iopub.status.idle": "2025-01-06T02:14:11.489952Z",
     "shell.execute_reply": "2025-01-06T02:14:11.487421Z",
     "shell.execute_reply.started": "2025-01-06T02:14:11.477725Z"
    }
   },
   "source": [
    "**EDA FOR RD5000 DATA**"
   ]
  },
  {
   "cell_type": "code",
   "execution_count": 13,
   "id": "4549998a-818d-4259-829d-348b881ac61d",
   "metadata": {
    "execution": {
     "iopub.execute_input": "2025-01-06T02:25:23.201416Z",
     "iopub.status.busy": "2025-01-06T02:25:23.201199Z",
     "iopub.status.idle": "2025-01-06T02:25:23.213283Z",
     "shell.execute_reply": "2025-01-06T02:25:23.212484Z",
     "shell.execute_reply.started": "2025-01-06T02:25:23.201396Z"
    }
   },
   "outputs": [
    {
     "data": {
      "text/html": [
       "<div>\n",
       "<style scoped>\n",
       "    .dataframe tbody tr th:only-of-type {\n",
       "        vertical-align: middle;\n",
       "    }\n",
       "\n",
       "    .dataframe tbody tr th {\n",
       "        vertical-align: top;\n",
       "    }\n",
       "\n",
       "    .dataframe thead th {\n",
       "        text-align: right;\n",
       "    }\n",
       "</style>\n",
       "<table border=\"1\" class=\"dataframe\">\n",
       "  <thead>\n",
       "    <tr style=\"text-align: right;\">\n",
       "      <th></th>\n",
       "      <th>BRANCH</th>\n",
       "      <th>POS</th>\n",
       "      <th>TRANSDATE</th>\n",
       "      <th>ITE_CODE</th>\n",
       "      <th>QUANTITY</th>\n",
       "      <th>DEP_CODE</th>\n",
       "      <th>DATE</th>\n",
       "      <th>TIME</th>\n",
       "      <th>TYPE</th>\n",
       "      <th>DELIVERY</th>\n",
       "    </tr>\n",
       "  </thead>\n",
       "  <tbody>\n",
       "    <tr>\n",
       "      <th>0</th>\n",
       "      <td>BRLN</td>\n",
       "      <td>1</td>\n",
       "      <td>2023-12-31</td>\n",
       "      <td>PP9</td>\n",
       "      <td>1</td>\n",
       "      <td>26</td>\n",
       "      <td>2023-12-31</td>\n",
       "      <td>21:10</td>\n",
       "      <td>T</td>\n",
       "      <td>0</td>\n",
       "    </tr>\n",
       "    <tr>\n",
       "      <th>1</th>\n",
       "      <td>BRLN</td>\n",
       "      <td>1</td>\n",
       "      <td>2023-12-31</td>\n",
       "      <td>CHM13</td>\n",
       "      <td>1</td>\n",
       "      <td>1</td>\n",
       "      <td>2023-12-31</td>\n",
       "      <td>21:04</td>\n",
       "      <td>T</td>\n",
       "      <td>0</td>\n",
       "    </tr>\n",
       "    <tr>\n",
       "      <th>2</th>\n",
       "      <td>BRLN</td>\n",
       "      <td>1</td>\n",
       "      <td>2023-12-31</td>\n",
       "      <td>SLD7</td>\n",
       "      <td>1</td>\n",
       "      <td>9</td>\n",
       "      <td>2023-12-31</td>\n",
       "      <td>20:52</td>\n",
       "      <td>T</td>\n",
       "      <td>0</td>\n",
       "    </tr>\n",
       "    <tr>\n",
       "      <th>3</th>\n",
       "      <td>BRLN</td>\n",
       "      <td>1</td>\n",
       "      <td>2023-12-31</td>\n",
       "      <td>SAL3</td>\n",
       "      <td>1</td>\n",
       "      <td>46</td>\n",
       "      <td>2023-12-31</td>\n",
       "      <td>20:52</td>\n",
       "      <td>T</td>\n",
       "      <td>0</td>\n",
       "    </tr>\n",
       "    <tr>\n",
       "      <th>4</th>\n",
       "      <td>BRLN</td>\n",
       "      <td>1</td>\n",
       "      <td>2023-12-31</td>\n",
       "      <td>BL1</td>\n",
       "      <td>1</td>\n",
       "      <td>42</td>\n",
       "      <td>2023-12-31</td>\n",
       "      <td>20:33</td>\n",
       "      <td>D</td>\n",
       "      <td>0</td>\n",
       "    </tr>\n",
       "  </tbody>\n",
       "</table>\n",
       "</div>"
      ],
      "text/plain": [
       "  BRANCH  POS   TRANSDATE ITE_CODE  QUANTITY  DEP_CODE        DATE   TIME  \\\n",
       "0   BRLN    1  2023-12-31      PP9         1        26  2023-12-31  21:10   \n",
       "1   BRLN    1  2023-12-31    CHM13         1         1  2023-12-31  21:04   \n",
       "2   BRLN    1  2023-12-31     SLD7         1         9  2023-12-31  20:52   \n",
       "3   BRLN    1  2023-12-31     SAL3         1        46  2023-12-31  20:52   \n",
       "4   BRLN    1  2023-12-31      BL1         1        42  2023-12-31  20:33   \n",
       "\n",
       "  TYPE  DELIVERY  \n",
       "0    T         0  \n",
       "1    T         0  \n",
       "2    T         0  \n",
       "3    T         0  \n",
       "4    D         0  "
      ]
     },
     "execution_count": 13,
     "metadata": {},
     "output_type": "execute_result"
    }
   ],
   "source": [
    "df_barlin_sales.head()"
   ]
  },
  {
   "cell_type": "code",
   "execution_count": 14,
   "id": "f23c4951-5a1c-4105-b82d-a2d5d02d2660",
   "metadata": {
    "execution": {
     "iopub.execute_input": "2025-01-06T02:25:23.214030Z",
     "iopub.status.busy": "2025-01-06T02:25:23.213831Z",
     "iopub.status.idle": "2025-01-06T02:25:23.219606Z",
     "shell.execute_reply": "2025-01-06T02:25:23.218789Z",
     "shell.execute_reply.started": "2025-01-06T02:25:23.214012Z"
    }
   },
   "outputs": [
    {
     "name": "stdout",
     "output_type": "stream",
     "text": [
      "BRANCH       object\n",
      "POS           int64\n",
      "TRANSDATE    object\n",
      "ITE_CODE     object\n",
      "QUANTITY      int64\n",
      "DEP_CODE      int64\n",
      "DATE         object\n",
      "TIME         object\n",
      "TYPE         object\n",
      "DELIVERY      int64\n",
      "dtype: object\n"
     ]
    }
   ],
   "source": [
    "print(df_barlin_sales.dtypes)"
   ]
  }
 ],
 "metadata": {
  "kernelspec": {
   "display_name": "Python [conda env:base] *",
   "language": "python",
   "name": "conda-base-py"
  },
  "language_info": {
   "codemirror_mode": {
    "name": "ipython",
    "version": 3
   },
   "file_extension": ".py",
   "mimetype": "text/x-python",
   "name": "python",
   "nbconvert_exporter": "python",
   "pygments_lexer": "ipython3",
   "version": "3.12.8"
  }
 },
 "nbformat": 4,
 "nbformat_minor": 5
}
