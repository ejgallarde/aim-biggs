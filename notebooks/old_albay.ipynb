{
 "cells": [
  {
   "cell_type": "markdown",
   "id": "bb2c87bb-6e32-4044-b678-8819fdfb85b8",
   "metadata": {},
   "source": [
    "**IMPORTS**"
   ]
  },
  {
   "cell_type": "code",
   "execution_count": 1,
   "id": "8a9c0f39-69da-41d2-a7c5-b668cb9f2603",
   "metadata": {
    "execution": {
     "iopub.execute_input": "2025-01-06T02:24:15.239095Z",
     "iopub.status.busy": "2025-01-06T02:24:15.238887Z",
     "iopub.status.idle": "2025-01-06T02:24:16.272851Z",
     "shell.execute_reply": "2025-01-06T02:24:16.271974Z",
     "shell.execute_reply.started": "2025-01-06T02:24:15.239073Z"
    }
   },
   "outputs": [],
   "source": [
    "import pandas as pd\n",
    "import matplotlib.pyplot as plt\n",
    "from datetime import timedelta"
   ]
  },
  {
   "cell_type": "markdown",
   "id": "6e9815cb-ff8a-4261-b292-04e0f14da7d0",
   "metadata": {},
   "source": [
    "**LOAD FILES**"
   ]
  },
  {
   "cell_type": "code",
   "execution_count": 2,
   "id": "8f0358c8-d5d7-4b10-aa9a-b43ca73b5b54",
   "metadata": {
    "execution": {
     "iopub.execute_input": "2025-01-06T02:24:16.274663Z",
     "iopub.status.busy": "2025-01-06T02:24:16.274348Z",
     "iopub.status.idle": "2025-01-06T02:24:18.082682Z",
     "shell.execute_reply": "2025-01-06T02:24:18.081218Z",
     "shell.execute_reply.started": "2025-01-06T02:24:16.274644Z"
    }
   },
   "outputs": [],
   "source": [
    "# Load the uploaded CSV files\n",
    "ola_items_file_path = 'OLA_rd5500.csv'\n",
    "ola_sales_file_path = 'OLA_rd5000.csv'\n",
    "\n",
    "# Read the files into DataFrames\n",
    "df_ola_items = pd.read_csv(ola_items_file_path)\n",
    "df_ola_sales = pd.read_csv(ola_sales_file_path)"
   ]
  },
  {
   "cell_type": "markdown",
   "id": "bbaf2a23-9a13-40bf-b8d0-48f88ff49a1d",
   "metadata": {},
   "source": [
    "**EDA FOR RD5500 (STORE ITEMS)**"
   ]
  },
  {
   "cell_type": "code",
   "execution_count": 3,
   "id": "1daaa27e-c4df-4b07-8453-7286c9e3b716",
   "metadata": {
    "execution": {
     "iopub.execute_input": "2025-01-06T02:24:18.083598Z",
     "iopub.status.busy": "2025-01-06T02:24:18.083375Z",
     "iopub.status.idle": "2025-01-06T02:24:18.091555Z",
     "shell.execute_reply": "2025-01-06T02:24:18.090697Z",
     "shell.execute_reply.started": "2025-01-06T02:24:18.083576Z"
    }
   },
   "outputs": [
    {
     "name": "stdout",
     "output_type": "stream",
     "text": [
      "Before data cleansing:\n",
      "INCODE      4104\n",
      "ITE_DESC    4104\n",
      "DEP_CODE    4104\n",
      "UNT_PRIC    4104\n",
      "UNIT           0\n",
      "dtype: int64\n"
     ]
    }
   ],
   "source": [
    "print(\"Before data cleansing:\")\n",
    "print(df_ola_items.count())"
   ]
  },
  {
   "cell_type": "code",
   "execution_count": 4,
   "id": "9624147d-2b5d-4465-8daf-d6c62e580252",
   "metadata": {
    "execution": {
     "iopub.execute_input": "2025-01-06T02:24:18.092555Z",
     "iopub.status.busy": "2025-01-06T02:24:18.092361Z",
     "iopub.status.idle": "2025-01-06T02:24:18.108137Z",
     "shell.execute_reply": "2025-01-06T02:24:18.107073Z",
     "shell.execute_reply.started": "2025-01-06T02:24:18.092536Z"
    }
   },
   "outputs": [
    {
     "data": {
      "text/html": [
       "<div>\n",
       "<style scoped>\n",
       "    .dataframe tbody tr th:only-of-type {\n",
       "        vertical-align: middle;\n",
       "    }\n",
       "\n",
       "    .dataframe tbody tr th {\n",
       "        vertical-align: top;\n",
       "    }\n",
       "\n",
       "    .dataframe thead th {\n",
       "        text-align: right;\n",
       "    }\n",
       "</style>\n",
       "<table border=\"1\" class=\"dataframe\">\n",
       "  <thead>\n",
       "    <tr style=\"text-align: right;\">\n",
       "      <th></th>\n",
       "      <th>INCODE</th>\n",
       "      <th>ITE_DESC</th>\n",
       "      <th>DEP_CODE</th>\n",
       "      <th>UNT_PRIC</th>\n",
       "      <th>UNIT</th>\n",
       "    </tr>\n",
       "  </thead>\n",
       "  <tbody>\n",
       "    <tr>\n",
       "      <th>0</th>\n",
       "      <td>SLD11</td>\n",
       "      <td>ROASTED SESAME DRESSING</td>\n",
       "      <td>9</td>\n",
       "      <td>0.0</td>\n",
       "      <td>NaN</td>\n",
       "    </tr>\n",
       "    <tr>\n",
       "      <th>1</th>\n",
       "      <td>SLD7</td>\n",
       "      <td>NENA'S HARVEST</td>\n",
       "      <td>9</td>\n",
       "      <td>0.0</td>\n",
       "      <td>NaN</td>\n",
       "    </tr>\n",
       "    <tr>\n",
       "      <th>2</th>\n",
       "      <td>REPSHK9</td>\n",
       "      <td>RIPE MANGO SHAKE</td>\n",
       "      <td>16</td>\n",
       "      <td>0.0</td>\n",
       "      <td>NaN</td>\n",
       "    </tr>\n",
       "    <tr>\n",
       "      <th>3</th>\n",
       "      <td>REPPST4</td>\n",
       "      <td>SPAGHETTI WITH PB</td>\n",
       "      <td>16</td>\n",
       "      <td>0.0</td>\n",
       "      <td>NaN</td>\n",
       "    </tr>\n",
       "    <tr>\n",
       "      <th>4</th>\n",
       "      <td>REPCHM9</td>\n",
       "      <td>SPAGHETTI WITH CHICKEN</td>\n",
       "      <td>16</td>\n",
       "      <td>0.0</td>\n",
       "      <td>NaN</td>\n",
       "    </tr>\n",
       "  </tbody>\n",
       "</table>\n",
       "</div>"
      ],
      "text/plain": [
       "    INCODE                 ITE_DESC  DEP_CODE  UNT_PRIC  UNIT\n",
       "0    SLD11  ROASTED SESAME DRESSING         9       0.0   NaN\n",
       "1     SLD7           NENA'S HARVEST         9       0.0   NaN\n",
       "2  REPSHK9         RIPE MANGO SHAKE        16       0.0   NaN\n",
       "3  REPPST4        SPAGHETTI WITH PB        16       0.0   NaN\n",
       "4  REPCHM9   SPAGHETTI WITH CHICKEN        16       0.0   NaN"
      ]
     },
     "execution_count": 4,
     "metadata": {},
     "output_type": "execute_result"
    }
   ],
   "source": [
    "df_ola_items.head()"
   ]
  },
  {
   "cell_type": "code",
   "execution_count": 5,
   "id": "73d5db61-ed23-4369-8038-60193ac21b92",
   "metadata": {
    "execution": {
     "iopub.execute_input": "2025-01-06T02:24:18.109164Z",
     "iopub.status.busy": "2025-01-06T02:24:18.108921Z",
     "iopub.status.idle": "2025-01-06T02:24:18.114740Z",
     "shell.execute_reply": "2025-01-06T02:24:18.113931Z",
     "shell.execute_reply.started": "2025-01-06T02:24:18.109141Z"
    }
   },
   "outputs": [
    {
     "name": "stdout",
     "output_type": "stream",
     "text": [
      "INCODE       object\n",
      "ITE_DESC     object\n",
      "DEP_CODE      int64\n",
      "UNT_PRIC    float64\n",
      "UNIT        float64\n",
      "dtype: object\n"
     ]
    }
   ],
   "source": [
    "print(df_ola_items.dtypes)"
   ]
  },
  {
   "cell_type": "markdown",
   "id": "9868c838-a5d5-4de2-b0b2-192bf8be759f",
   "metadata": {},
   "source": [
    "**CLEAN RD5500 DATA**"
   ]
  },
  {
   "cell_type": "code",
   "execution_count": 6,
   "id": "ee102523-07bb-4168-9349-f885b44943ef",
   "metadata": {
    "execution": {
     "iopub.execute_input": "2025-01-06T02:24:18.115792Z",
     "iopub.status.busy": "2025-01-06T02:24:18.115564Z",
     "iopub.status.idle": "2025-01-06T02:24:18.123254Z",
     "shell.execute_reply": "2025-01-06T02:24:18.122108Z",
     "shell.execute_reply.started": "2025-01-06T02:24:18.115769Z"
    }
   },
   "outputs": [],
   "source": [
    "# Drop all columns except 'INCODE' and 'ITE_DESC'\n",
    "df_ola_items = df_ola_items[['INCODE', 'ITE_DESC']]\n",
    "\n",
    "# Get all unique pairs of 'INCODE' and 'ITE_DESC'\n",
    "df_ola_filtered_items = df_ola_items.drop_duplicates()"
   ]
  },
  {
   "cell_type": "code",
   "execution_count": 7,
   "id": "f99baae0-8794-4b48-b69f-40ce36d4c0fc",
   "metadata": {
    "execution": {
     "iopub.execute_input": "2025-01-06T02:24:18.125765Z",
     "iopub.status.busy": "2025-01-06T02:24:18.125504Z",
     "iopub.status.idle": "2025-01-06T02:24:18.132026Z",
     "shell.execute_reply": "2025-01-06T02:24:18.131178Z",
     "shell.execute_reply.started": "2025-01-06T02:24:18.125740Z"
    }
   },
   "outputs": [
    {
     "name": "stdout",
     "output_type": "stream",
     "text": [
      "After data cleansing:\n",
      "INCODE      856\n",
      "ITE_DESC    856\n",
      "dtype: int64\n"
     ]
    }
   ],
   "source": [
    "print(\"After data cleansing:\")\n",
    "print(df_ola_filtered_items.count())"
   ]
  },
  {
   "cell_type": "code",
   "execution_count": 8,
   "id": "b1812170-c4ef-4681-8c2e-75faaa96cde1",
   "metadata": {
    "execution": {
     "iopub.execute_input": "2025-01-06T02:24:18.133126Z",
     "iopub.status.busy": "2025-01-06T02:24:18.132888Z",
     "iopub.status.idle": "2025-01-06T02:24:23.336393Z",
     "shell.execute_reply": "2025-01-06T02:24:23.334505Z",
     "shell.execute_reply.started": "2025-01-06T02:24:18.133102Z"
    }
   },
   "outputs": [
    {
     "name": "stdout",
     "output_type": "stream",
     "text": [
      "Defaulting to user installation because normal site-packages is not writeable\n",
      "Requirement already satisfied: xlwt in /home/msds-pt2025a/egallarde/.local/lib/python3.11/site-packages (1.3.0)\n",
      "Note: you may need to restart the kernel to use updated packages.\n"
     ]
    }
   ],
   "source": [
    "pip install xlwt"
   ]
  },
  {
   "cell_type": "code",
   "execution_count": 9,
   "id": "ed893b7e-f38f-4d52-9e80-acc894d3d33d",
   "metadata": {
    "execution": {
     "iopub.execute_input": "2025-01-06T02:24:23.339668Z",
     "iopub.status.busy": "2025-01-06T02:24:23.339017Z",
     "iopub.status.idle": "2025-01-06T02:24:23.356698Z",
     "shell.execute_reply": "2025-01-06T02:24:23.355588Z",
     "shell.execute_reply.started": "2025-01-06T02:24:23.339579Z"
    }
   },
   "outputs": [],
   "source": [
    "output_file = 'store_items.csv'\n",
    "df_ola_filtered_items.to_csv(output_file, index=False)"
   ]
  },
  {
   "cell_type": "markdown",
   "id": "38a1e31a-8d83-476f-b97c-0b79e47a0783",
   "metadata": {},
   "source": [
    "**MERGE SIMILAR STORE ITEMS BASED ON ITEM DESCRIPTION**"
   ]
  },
  {
   "cell_type": "code",
   "execution_count": 10,
   "id": "2694d733-bdfd-419e-86fe-44f9693dae54",
   "metadata": {
    "execution": {
     "iopub.execute_input": "2025-01-06T02:24:23.357525Z",
     "iopub.status.busy": "2025-01-06T02:24:23.357325Z",
     "iopub.status.idle": "2025-01-06T02:24:23.387882Z",
     "shell.execute_reply": "2025-01-06T02:24:23.387108Z",
     "shell.execute_reply.started": "2025-01-06T02:24:23.357507Z"
    }
   },
   "outputs": [
    {
     "name": "stderr",
     "output_type": "stream",
     "text": [
      "/tmp/ipykernel_4666/939108571.py:2: SettingWithCopyWarning: \n",
      "A value is trying to be set on a copy of a slice from a DataFrame.\n",
      "Try using .loc[row_indexer,col_indexer] = value instead\n",
      "\n",
      "See the caveats in the documentation: https://pandas.pydata.org/pandas-docs/stable/user_guide/indexing.html#returning-a-view-versus-a-copy\n",
      "  df_ola_filtered_items.loc[:, 'Normalized_ITE_DESC'] = df_ola_filtered_items['ITE_DESC'].str.strip().str.lower()\n"
     ]
    },
    {
     "data": {
      "text/html": [
       "<div>\n",
       "<style scoped>\n",
       "    .dataframe tbody tr th:only-of-type {\n",
       "        vertical-align: middle;\n",
       "    }\n",
       "\n",
       "    .dataframe tbody tr th {\n",
       "        vertical-align: top;\n",
       "    }\n",
       "\n",
       "    .dataframe thead th {\n",
       "        text-align: right;\n",
       "    }\n",
       "</style>\n",
       "<table border=\"1\" class=\"dataframe\">\n",
       "  <thead>\n",
       "    <tr style=\"text-align: right;\">\n",
       "      <th></th>\n",
       "      <th>INCODE_LIST</th>\n",
       "      <th>ITEM_DESC</th>\n",
       "    </tr>\n",
       "  </thead>\n",
       "  <tbody>\n",
       "    <tr>\n",
       "      <th>0</th>\n",
       "      <td>[BL67]</td>\n",
       "      <td>1CAJCHX SPG PBRD CNC IT</td>\n",
       "    </tr>\n",
       "    <tr>\n",
       "      <th>1</th>\n",
       "      <td>[BULK7]</td>\n",
       "      <td>1HALF SERVING SOUTHWEST</td>\n",
       "    </tr>\n",
       "    <tr>\n",
       "      <th>2</th>\n",
       "      <td>[BDS6]</td>\n",
       "      <td>1P BIGG CAJUN CHICKEN</td>\n",
       "    </tr>\n",
       "    <tr>\n",
       "      <th>3</th>\n",
       "      <td>[BULK2]</td>\n",
       "      <td>1PBHAM 4CHX 10BM SOUTHS 1BBACK</td>\n",
       "    </tr>\n",
       "    <tr>\n",
       "      <th>4</th>\n",
       "      <td>[BULK6]</td>\n",
       "      <td>1PC BBYBACK</td>\n",
       "    </tr>\n",
       "    <tr>\n",
       "      <th>5</th>\n",
       "      <td>[DEL8, CHM6, XTR2, REPCHM6]</td>\n",
       "      <td>1PC BIGG CAJUN CHICKEN</td>\n",
       "    </tr>\n",
       "    <tr>\n",
       "      <th>6</th>\n",
       "      <td>[REPCHM4, CHM4, DEL3, XTR1, PP3, BDS11, REPXTR...</td>\n",
       "      <td>1PC BIGG CHICKEN</td>\n",
       "    </tr>\n",
       "    <tr>\n",
       "      <th>7</th>\n",
       "      <td>[REPSID7, SID5, XTR15, BDS77]</td>\n",
       "      <td>1PC BMP</td>\n",
       "    </tr>\n",
       "    <tr>\n",
       "      <th>8</th>\n",
       "      <td>[MP130]</td>\n",
       "      <td>1PC CHIX  PJ</td>\n",
       "    </tr>\n",
       "    <tr>\n",
       "      <th>9</th>\n",
       "      <td>[DEL165]</td>\n",
       "      <td>1PC CHIX IT</td>\n",
       "    </tr>\n",
       "    <tr>\n",
       "      <th>10</th>\n",
       "      <td>[MP130]</td>\n",
       "      <td>1PC CHIX PJ</td>\n",
       "    </tr>\n",
       "    <tr>\n",
       "      <th>11</th>\n",
       "      <td>[BULK3]</td>\n",
       "      <td>1PC PORK BELLY HAM</td>\n",
       "    </tr>\n",
       "    <tr>\n",
       "      <th>12</th>\n",
       "      <td>[XTR41, REPXTR47]</td>\n",
       "      <td>1PC PORKCHOP</td>\n",
       "    </tr>\n",
       "    <tr>\n",
       "      <th>13</th>\n",
       "      <td>[CHM5, DEL7, REPCHM5, BDS7]</td>\n",
       "      <td>2PC BIGG CAJUN CHICKEN</td>\n",
       "    </tr>\n",
       "    <tr>\n",
       "      <th>14</th>\n",
       "      <td>[CHM1, DEL4, REPCHM1, BDS12]</td>\n",
       "      <td>2PC BIGG CHICKEN</td>\n",
       "    </tr>\n",
       "    <tr>\n",
       "      <th>15</th>\n",
       "      <td>[XTR5]</td>\n",
       "      <td>2PC BMP</td>\n",
       "    </tr>\n",
       "    <tr>\n",
       "      <th>16</th>\n",
       "      <td>[PREM27]</td>\n",
       "      <td>4OTH SHIRT ADULT</td>\n",
       "    </tr>\n",
       "    <tr>\n",
       "      <th>17</th>\n",
       "      <td>[BULK4]</td>\n",
       "      <td>4PC CHICKEN</td>\n",
       "    </tr>\n",
       "    <tr>\n",
       "      <th>18</th>\n",
       "      <td>[MP65]</td>\n",
       "      <td>6.6 BACON CHEESY BURGER</td>\n",
       "    </tr>\n",
       "    <tr>\n",
       "      <th>19</th>\n",
       "      <td>[BEV9, DEL50, BEV6, BDS60, FPC7]</td>\n",
       "      <td>7UP</td>\n",
       "    </tr>\n",
       "  </tbody>\n",
       "</table>\n",
       "</div>"
      ],
      "text/plain": [
       "                                          INCODE_LIST  \\\n",
       "0                                              [BL67]   \n",
       "1                                             [BULK7]   \n",
       "2                                              [BDS6]   \n",
       "3                                             [BULK2]   \n",
       "4                                             [BULK6]   \n",
       "5                         [DEL8, CHM6, XTR2, REPCHM6]   \n",
       "6   [REPCHM4, CHM4, DEL3, XTR1, PP3, BDS11, REPXTR...   \n",
       "7                       [REPSID7, SID5, XTR15, BDS77]   \n",
       "8                                             [MP130]   \n",
       "9                                            [DEL165]   \n",
       "10                                            [MP130]   \n",
       "11                                            [BULK3]   \n",
       "12                                  [XTR41, REPXTR47]   \n",
       "13                        [CHM5, DEL7, REPCHM5, BDS7]   \n",
       "14                       [CHM1, DEL4, REPCHM1, BDS12]   \n",
       "15                                             [XTR5]   \n",
       "16                                           [PREM27]   \n",
       "17                                            [BULK4]   \n",
       "18                                             [MP65]   \n",
       "19                   [BEV9, DEL50, BEV6, BDS60, FPC7]   \n",
       "\n",
       "                         ITEM_DESC  \n",
       "0          1CAJCHX SPG PBRD CNC IT  \n",
       "1          1HALF SERVING SOUTHWEST  \n",
       "2            1P BIGG CAJUN CHICKEN  \n",
       "3   1PBHAM 4CHX 10BM SOUTHS 1BBACK  \n",
       "4                      1PC BBYBACK  \n",
       "5           1PC BIGG CAJUN CHICKEN  \n",
       "6                 1PC BIGG CHICKEN  \n",
       "7                          1PC BMP  \n",
       "8                     1PC CHIX  PJ  \n",
       "9                      1PC CHIX IT  \n",
       "10                     1PC CHIX PJ  \n",
       "11              1PC PORK BELLY HAM  \n",
       "12                    1PC PORKCHOP  \n",
       "13          2PC BIGG CAJUN CHICKEN  \n",
       "14                2PC BIGG CHICKEN  \n",
       "15                         2PC BMP  \n",
       "16                4OTH SHIRT ADULT  \n",
       "17                     4PC CHICKEN  \n",
       "18         6.6 BACON CHEESY BURGER  \n",
       "19                             7UP  "
      ]
     },
     "execution_count": 10,
     "metadata": {},
     "output_type": "execute_result"
    }
   ],
   "source": [
    "# Normalize the ITE_DESC column to make it case-insensitive and group similar items\n",
    "df_ola_filtered_items.loc[:, 'Normalized_ITE_DESC'] = df_ola_filtered_items['ITE_DESC'].str.strip().str.lower()\n",
    "\n",
    "# Group by the normalized item description and aggregate INCODE into a list\n",
    "grouped_df = df_ola_filtered_items.groupby('Normalized_ITE_DESC').agg({\n",
    "    'INCODE': list,\n",
    "    'ITE_DESC': 'first'  # Take the first occurrence of the original case item description\n",
    "}).reset_index()\n",
    "\n",
    "# Rename columns for clarity\n",
    "grouped_df = grouped_df.rename(columns={'INCODE': 'INCODE_LIST', 'ITE_DESC': 'ITEM_DESC'})\n",
    "\n",
    "# Drop the normalized column as it is no longer needed\n",
    "grouped_df = grouped_df[['INCODE_LIST', 'ITEM_DESC']]\n",
    "grouped_df.head(20)"
   ]
  },
  {
   "cell_type": "code",
   "execution_count": 11,
   "id": "6663ec86-b91d-4e99-8a30-d2e77661a5f5",
   "metadata": {
    "execution": {
     "iopub.execute_input": "2025-01-06T02:24:23.388809Z",
     "iopub.status.busy": "2025-01-06T02:24:23.388614Z",
     "iopub.status.idle": "2025-01-06T02:24:23.394999Z",
     "shell.execute_reply": "2025-01-06T02:24:23.394203Z",
     "shell.execute_reply.started": "2025-01-06T02:24:23.388791Z"
    }
   },
   "outputs": [
    {
     "name": "stdout",
     "output_type": "stream",
     "text": [
      "After incode merge:\n",
      "INCODE_LIST    342\n",
      "ITEM_DESC      342\n",
      "dtype: int64\n"
     ]
    }
   ],
   "source": [
    "print(\"After incode merge:\")\n",
    "print(grouped_df.count())"
   ]
  },
  {
   "cell_type": "code",
   "execution_count": 12,
   "id": "d33fc5ed-edf0-4c83-b730-0fa2a52bc0a4",
   "metadata": {
    "execution": {
     "iopub.execute_input": "2025-01-06T02:24:23.396017Z",
     "iopub.status.busy": "2025-01-06T02:24:23.395819Z",
     "iopub.status.idle": "2025-01-06T02:24:23.401308Z",
     "shell.execute_reply": "2025-01-06T02:24:23.400503Z",
     "shell.execute_reply.started": "2025-01-06T02:24:23.395999Z"
    }
   },
   "outputs": [],
   "source": [
    "output_file = 'ola_grouped_items.csv'\n",
    "grouped_df.to_csv(output_file, index=False)"
   ]
  },
  {
   "cell_type": "markdown",
   "id": "c2415321-5fe6-40f7-8d70-4c6de2f9f727",
   "metadata": {
    "execution": {
     "iopub.execute_input": "2025-01-06T02:14:11.477783Z",
     "iopub.status.busy": "2025-01-06T02:14:11.477106Z",
     "iopub.status.idle": "2025-01-06T02:14:11.489952Z",
     "shell.execute_reply": "2025-01-06T02:14:11.487421Z",
     "shell.execute_reply.started": "2025-01-06T02:14:11.477725Z"
    }
   },
   "source": [
    "**EDA FOR RD5000 DATA**"
   ]
  },
  {
   "cell_type": "code",
   "execution_count": 13,
   "id": "4549998a-818d-4259-829d-348b881ac61d",
   "metadata": {
    "execution": {
     "iopub.execute_input": "2025-01-06T02:24:23.402270Z",
     "iopub.status.busy": "2025-01-06T02:24:23.402062Z",
     "iopub.status.idle": "2025-01-06T02:24:23.413312Z",
     "shell.execute_reply": "2025-01-06T02:24:23.412578Z",
     "shell.execute_reply.started": "2025-01-06T02:24:23.402250Z"
    }
   },
   "outputs": [
    {
     "data": {
      "text/html": [
       "<div>\n",
       "<style scoped>\n",
       "    .dataframe tbody tr th:only-of-type {\n",
       "        vertical-align: middle;\n",
       "    }\n",
       "\n",
       "    .dataframe tbody tr th {\n",
       "        vertical-align: top;\n",
       "    }\n",
       "\n",
       "    .dataframe thead th {\n",
       "        text-align: right;\n",
       "    }\n",
       "</style>\n",
       "<table border=\"1\" class=\"dataframe\">\n",
       "  <thead>\n",
       "    <tr style=\"text-align: right;\">\n",
       "      <th></th>\n",
       "      <th>BRANCH</th>\n",
       "      <th>POS</th>\n",
       "      <th>TRANSDATE</th>\n",
       "      <th>ITE_CODE</th>\n",
       "      <th>QUANTITY</th>\n",
       "      <th>DEP_CODE</th>\n",
       "      <th>DATE</th>\n",
       "      <th>TIME</th>\n",
       "      <th>TYPE</th>\n",
       "      <th>DELIVERY</th>\n",
       "    </tr>\n",
       "  </thead>\n",
       "  <tbody>\n",
       "    <tr>\n",
       "      <th>0</th>\n",
       "      <td>OLA</td>\n",
       "      <td>1</td>\n",
       "      <td>2023-12-31</td>\n",
       "      <td>SLD11</td>\n",
       "      <td>1</td>\n",
       "      <td>9</td>\n",
       "      <td>2023-12-31</td>\n",
       "      <td>21:53</td>\n",
       "      <td>D</td>\n",
       "      <td>0</td>\n",
       "    </tr>\n",
       "    <tr>\n",
       "      <th>1</th>\n",
       "      <td>OLA</td>\n",
       "      <td>1</td>\n",
       "      <td>2023-12-31</td>\n",
       "      <td>SLD7</td>\n",
       "      <td>1</td>\n",
       "      <td>9</td>\n",
       "      <td>2023-12-31</td>\n",
       "      <td>21:53</td>\n",
       "      <td>D</td>\n",
       "      <td>0</td>\n",
       "    </tr>\n",
       "    <tr>\n",
       "      <th>2</th>\n",
       "      <td>OLA</td>\n",
       "      <td>1</td>\n",
       "      <td>2023-12-31</td>\n",
       "      <td>REPSHK9</td>\n",
       "      <td>1</td>\n",
       "      <td>16</td>\n",
       "      <td>2023-12-31</td>\n",
       "      <td>21:53</td>\n",
       "      <td>D</td>\n",
       "      <td>0</td>\n",
       "    </tr>\n",
       "    <tr>\n",
       "      <th>3</th>\n",
       "      <td>OLA</td>\n",
       "      <td>1</td>\n",
       "      <td>2023-12-31</td>\n",
       "      <td>REPPST4</td>\n",
       "      <td>1</td>\n",
       "      <td>16</td>\n",
       "      <td>2023-12-31</td>\n",
       "      <td>21:53</td>\n",
       "      <td>D</td>\n",
       "      <td>0</td>\n",
       "    </tr>\n",
       "    <tr>\n",
       "      <th>4</th>\n",
       "      <td>OLA</td>\n",
       "      <td>1</td>\n",
       "      <td>2023-12-31</td>\n",
       "      <td>REPCHM9</td>\n",
       "      <td>2</td>\n",
       "      <td>16</td>\n",
       "      <td>2023-12-31</td>\n",
       "      <td>21:53</td>\n",
       "      <td>D</td>\n",
       "      <td>0</td>\n",
       "    </tr>\n",
       "  </tbody>\n",
       "</table>\n",
       "</div>"
      ],
      "text/plain": [
       "  BRANCH  POS   TRANSDATE ITE_CODE  QUANTITY  DEP_CODE        DATE   TIME  \\\n",
       "0    OLA    1  2023-12-31    SLD11         1         9  2023-12-31  21:53   \n",
       "1    OLA    1  2023-12-31     SLD7         1         9  2023-12-31  21:53   \n",
       "2    OLA    1  2023-12-31  REPSHK9         1        16  2023-12-31  21:53   \n",
       "3    OLA    1  2023-12-31  REPPST4         1        16  2023-12-31  21:53   \n",
       "4    OLA    1  2023-12-31  REPCHM9         2        16  2023-12-31  21:53   \n",
       "\n",
       "  TYPE  DELIVERY  \n",
       "0    D         0  \n",
       "1    D         0  \n",
       "2    D         0  \n",
       "3    D         0  \n",
       "4    D         0  "
      ]
     },
     "execution_count": 13,
     "metadata": {},
     "output_type": "execute_result"
    }
   ],
   "source": [
    "df_ola_sales.head()"
   ]
  },
  {
   "cell_type": "code",
   "execution_count": 14,
   "id": "f23c4951-5a1c-4105-b82d-a2d5d02d2660",
   "metadata": {
    "execution": {
     "iopub.execute_input": "2025-01-06T02:24:23.414140Z",
     "iopub.status.busy": "2025-01-06T02:24:23.413959Z",
     "iopub.status.idle": "2025-01-06T02:24:23.419310Z",
     "shell.execute_reply": "2025-01-06T02:24:23.418411Z",
     "shell.execute_reply.started": "2025-01-06T02:24:23.414123Z"
    }
   },
   "outputs": [
    {
     "name": "stdout",
     "output_type": "stream",
     "text": [
      "BRANCH       object\n",
      "POS           int64\n",
      "TRANSDATE    object\n",
      "ITE_CODE     object\n",
      "QUANTITY      int64\n",
      "DEP_CODE      int64\n",
      "DATE         object\n",
      "TIME         object\n",
      "TYPE         object\n",
      "DELIVERY      int64\n",
      "dtype: object\n"
     ]
    }
   ],
   "source": [
    "print(df_ola_sales.dtypes)"
   ]
  }
 ],
 "metadata": {
  "kernelspec": {
   "display_name": "Python 3 (ipykernel)",
   "language": "python",
   "name": "python3"
  },
  "language_info": {
   "codemirror_mode": {
    "name": "ipython",
    "version": 3
   },
   "file_extension": ".py",
   "mimetype": "text/x-python",
   "name": "python",
   "nbconvert_exporter": "python",
   "pygments_lexer": "ipython3",
   "version": "3.11.8"
  }
 },
 "nbformat": 4,
 "nbformat_minor": 5
}
